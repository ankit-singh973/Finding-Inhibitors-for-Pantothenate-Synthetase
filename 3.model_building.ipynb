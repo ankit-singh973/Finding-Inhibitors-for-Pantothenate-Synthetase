{
 "cells": [
  {
   "cell_type": "markdown",
   "id": "661c8bcf-5ab4-4364-b71a-883eecde4716",
   "metadata": {
    "id": "661c8bcf-5ab4-4364-b71a-883eecde4716"
   },
   "source": [
    "# <font color = green>In this notebook we'll build a model based on RdKit fingerprints</font>\n",
    "* Dataset is still unbalanced.\n",
    "* First we'll build a model on imbalanced dataset, then we'll balance the dataset and build the model again"
   ]
  },
  {
   "cell_type": "code",
   "execution_count": 1,
   "id": "dfe8977b-1c3f-47fa-b952-55a31b789f8a",
   "metadata": {
    "executionInfo": {
     "elapsed": 2216,
     "status": "ok",
     "timestamp": 1712865231416,
     "user": {
      "displayName": "ANKIT SINGH dharmvir singh",
      "userId": "08327006042311051948"
     },
     "user_tz": -330
    },
    "id": "dfe8977b-1c3f-47fa-b952-55a31b789f8a"
   },
   "outputs": [],
   "source": [
    "import os\n",
    "import pandas as pd\n",
    "import numpy as np\n",
    "import random\n",
    "import pickle\n",
    "import sklearn.ensemble\n",
    "from sklearn.metrics import roc_auc_score, mean_squared_error, mean_absolute_error\n",
    "\n",
    "from rdkit import Chem, DataStructs\n",
    "import rdkit.Chem as rkc\n",
    "import rdkit.Chem.AllChem as rkac\n",
    "import rdkit.Chem.Scaffolds.MurckoScaffold as mrks\n",
    "from rdkit.Chem import AllChem, MACCSkeys\n",
    "from rdkit.Avalon import pyAvalonTools\n",
    "\n",
    "import matplotlib.pyplot as plt\n",
    "import seaborn as sns"
   ]
  },
  {
   "cell_type": "code",
   "execution_count": 2,
   "id": "13c48390-9f82-4058-9c24-48fd1651007f",
   "metadata": {
    "id": "13c48390-9f82-4058-9c24-48fd1651007f",
    "outputId": "70c96402-7545-470f-e3d3-0ff359c0b4c7"
   },
   "outputs": [
    {
     "name": "stdout",
     "output_type": "stream",
     "text": [
      " Volume in drive C has no label.\n",
      " Volume Serial Number is A29E-1842\n",
      "\n",
      " Directory of C:\\Users\\Ankit\\Desktop\\Project_work\n",
      "\n",
      "13-05-2024  22:57    <DIR>          .\n",
      "13-05-2024  19:24    <DIR>          ..\n",
      "13-05-2024  19:24    <DIR>          .ipynb_checkpoints\n",
      "13-05-2024  22:52         4,551,921 1_uM_Muski.ipynb\n",
      "13-05-2024  22:57         6,619,774 3_Final_dataset_notebook.ipynb\n",
      "01-05-2024  00:47           255,907 4_model_building.ipynb\n",
      "01-05-2024  16:15             7,732 active_molecules.csv\n",
      "13-05-2024  22:38            10,805 clean_df_uM.csv\n",
      "01-05-2024  01:11            90,678 combined_predictions.csv\n",
      "30-04-2024  22:43               262 enc.pickle\n",
      "30-04-2024  22:50             4,374 Final_dataframe_encoded.csv\n",
      "13-05-2024  22:40             5,968 final_dataset_encoded.csv\n",
      "30-04-2024  23:40            22,470 knn_model_25.pkl\n",
      "01-05-2024  01:03            30,228 knn_predictions.csv\n",
      "13-05-2024  22:43               124 mannwhitneyu_LogP.csv\n",
      "13-05-2024  22:43               120 mannwhitneyu_MW.csv\n",
      "13-05-2024  22:43               131 mannwhitneyu_NumHAcceptors.csv\n",
      "13-05-2024  22:43               129 mannwhitneyu_NumHDonors.csv\n",
      "13-05-2024  22:43               125 mannwhitneyu_pIC50.csv\n",
      "13-05-2024  19:24    <DIR>          Models\n",
      "01-05-2024  18:13               446 mols_2_doc.csv\n",
      "01-05-2024  00:46           427,319 pca.pkl\n",
      "13-05-2024  22:41            14,338 plot_activity_class.pdf\n",
      "13-05-2024  22:43            13,932 plot_MW_vs_LogP.pdf\n",
      "30-04-2024  19:56            71,142 Raw_data.csv\n",
      "30-04-2024  23:40            50,665 rf_model_25.pkl\n",
      "01-05-2024  01:03            30,228 rf_predictions.csv\n",
      "01-05-2024  00:00            49,614 scaler.pkl\n",
      "01-05-2024  18:22           166,611 screening.ipynb\n",
      "13-05-2024  19:24    <DIR>          screening_data\n",
      "30-04-2024  23:40             6,027 svm_model_25.pkl\n",
      "01-05-2024  01:03            30,228 svm_predictions.csv\n",
      "01-05-2024  17:40               392 tani_sim_mol.csv\n",
      "13-05-2024  22:40             5,827 tb_final_df.csv\n",
      "30-04-2024  23:40            77,424 xgb_model_25.pkl\n",
      "01-05-2024  01:03            30,228 xgb_predictions.csv\n",
      "              31 File(s)     12,575,169 bytes\n",
      "               5 Dir(s)  195,870,060,544 bytes free\n"
     ]
    }
   ],
   "source": [
    "ls"
   ]
  },
  {
   "cell_type": "code",
   "execution_count": 3,
   "id": "cdd6646e-8ae4-4e84-8d6b-dc12c7ab7b08",
   "metadata": {
    "colab": {
     "base_uri": "https://localhost:8080/",
     "height": 424
    },
    "executionInfo": {
     "elapsed": 1141,
     "status": "ok",
     "timestamp": 1712865247219,
     "user": {
      "displayName": "ANKIT SINGH dharmvir singh",
      "userId": "08327006042311051948"
     },
     "user_tz": -330
    },
    "id": "cdd6646e-8ae4-4e84-8d6b-dc12c7ab7b08",
    "outputId": "62576e8e-287a-47a5-af40-ed50016fd6c3",
    "scrolled": true
   },
   "outputs": [
    {
     "data": {
      "text/html": [
       "<div>\n",
       "<style scoped>\n",
       "    .dataframe tbody tr th:only-of-type {\n",
       "        vertical-align: middle;\n",
       "    }\n",
       "\n",
       "    .dataframe tbody tr th {\n",
       "        vertical-align: top;\n",
       "    }\n",
       "\n",
       "    .dataframe thead th {\n",
       "        text-align: right;\n",
       "    }\n",
       "</style>\n",
       "<table border=\"1\" class=\"dataframe\">\n",
       "  <thead>\n",
       "    <tr style=\"text-align: right;\">\n",
       "      <th></th>\n",
       "      <th>molecule_chembl_id</th>\n",
       "      <th>activity_class</th>\n",
       "      <th>preprocessed_smiles</th>\n",
       "    </tr>\n",
       "  </thead>\n",
       "  <tbody>\n",
       "    <tr>\n",
       "      <th>0</th>\n",
       "      <td>CHEMBL412059</td>\n",
       "      <td>0</td>\n",
       "      <td>Cc1ccccc1Cn1cc(NC(=O)c2noc3c2CC(C(C)(C)C)CC3)cn1</td>\n",
       "    </tr>\n",
       "    <tr>\n",
       "      <th>1</th>\n",
       "      <td>CHEMBL438202</td>\n",
       "      <td>0</td>\n",
       "      <td>CC(C)(C)C1CCc2onc(C(=O)Nc3cnn(Cc4ccc(C(=O)NCCc...</td>\n",
       "    </tr>\n",
       "    <tr>\n",
       "      <th>2</th>\n",
       "      <td>CHEMBL261734</td>\n",
       "      <td>0</td>\n",
       "      <td>CC(C)(C)C1CCc2onc(C(=O)Nc3cnn(Cc4ccc(C(=O)NCc5...</td>\n",
       "    </tr>\n",
       "    <tr>\n",
       "      <th>3</th>\n",
       "      <td>CHEMBL410040</td>\n",
       "      <td>0</td>\n",
       "      <td>CC(C)(C)OC(=O)c1ccc(Cn2cc(NC(=O)c3noc4c3CC(C(C...</td>\n",
       "    </tr>\n",
       "    <tr>\n",
       "      <th>4</th>\n",
       "      <td>CHEMBL409299</td>\n",
       "      <td>0</td>\n",
       "      <td>CC(C)(C)C1CCc2onc(C(=O)Nc3cnn(Cc4ccc(C(=O)O)cc...</td>\n",
       "    </tr>\n",
       "    <tr>\n",
       "      <th>5</th>\n",
       "      <td>CHEMBL261486</td>\n",
       "      <td>0</td>\n",
       "      <td>CC(C)(C)C1CCc2onc(C(=O)Nc3cnn(Cc4ccc(F)cc4F)c3...</td>\n",
       "    </tr>\n",
       "    <tr>\n",
       "      <th>6</th>\n",
       "      <td>CHEMBL261487</td>\n",
       "      <td>0</td>\n",
       "      <td>COC(=O)c1ccc(Cn2cc(NC(=O)c3noc4c3CC(C(C)(C)C)C...</td>\n",
       "    </tr>\n",
       "    <tr>\n",
       "      <th>7</th>\n",
       "      <td>CHEMBL428787</td>\n",
       "      <td>0</td>\n",
       "      <td>CC(C)(C)C1CCc2onc(C(=O)Nc3cnn(Cc4ccc5ccccc5c4)...</td>\n",
       "    </tr>\n",
       "    <tr>\n",
       "      <th>8</th>\n",
       "      <td>CHEMBL260779</td>\n",
       "      <td>0</td>\n",
       "      <td>CC(C)(C)C1CCc2onc(C(=O)Nc3cnn(Cc4ccccc4I)c3)c2C1</td>\n",
       "    </tr>\n",
       "    <tr>\n",
       "      <th>9</th>\n",
       "      <td>CHEMBL258966</td>\n",
       "      <td>0</td>\n",
       "      <td>CC(C)(C)C1CCc2onc(C(=O)Nc3cnn(Cc4ccc(Cl)cc4)c3...</td>\n",
       "    </tr>\n",
       "    <tr>\n",
       "      <th>10</th>\n",
       "      <td>CHEMBL409940</td>\n",
       "      <td>0</td>\n",
       "      <td>CC(C)(C)C1CCc2onc(C(=O)Nc3cnn(Cc4ccccc4Br)c3)c2C1</td>\n",
       "    </tr>\n",
       "    <tr>\n",
       "      <th>11</th>\n",
       "      <td>CHEMBL408197</td>\n",
       "      <td>0</td>\n",
       "      <td>CC(C)(C)C1CCc2onc(C(=O)Nc3cnn(Cc4ccccc4)c3)c2C1</td>\n",
       "    </tr>\n",
       "    <tr>\n",
       "      <th>12</th>\n",
       "      <td>CHEMBL259507</td>\n",
       "      <td>0</td>\n",
       "      <td>CC(C)(C)C1CCc2onc(C(=O)Nc3cnn(Cc4ccc(F)cc4)c3)...</td>\n",
       "    </tr>\n",
       "    <tr>\n",
       "      <th>13</th>\n",
       "      <td>CHEMBL260609</td>\n",
       "      <td>1</td>\n",
       "      <td>CC(C)(C)C1CCc2onc(C(=O)Nc3cn[nH]c3)c2C1</td>\n",
       "    </tr>\n",
       "    <tr>\n",
       "      <th>14</th>\n",
       "      <td>CHEMBL1439099</td>\n",
       "      <td>1</td>\n",
       "      <td>CCN(CC)CCOC(=O)C(Cc1cccc2ccccc12)CC1CCCO1.O=C(...</td>\n",
       "    </tr>\n",
       "    <tr>\n",
       "      <th>15</th>\n",
       "      <td>CHEMBL1797249</td>\n",
       "      <td>1</td>\n",
       "      <td>COC(=O)c1cc2c(OCc3ccccc3)cc(N)cc2[nH]1</td>\n",
       "    </tr>\n",
       "    <tr>\n",
       "      <th>16</th>\n",
       "      <td>CHEMBL2435653</td>\n",
       "      <td>1</td>\n",
       "      <td>CC(C)(C)OC(=O)N1CCc2[nH]nc(-c3ccccc3)c2C1</td>\n",
       "    </tr>\n",
       "    <tr>\n",
       "      <th>17</th>\n",
       "      <td>CHEMBL2435683</td>\n",
       "      <td>1</td>\n",
       "      <td>CC(=O)c1ccc(S(=O)(=O)N2CCc3c(c(-c4ccccc4)nn3C(...</td>\n",
       "    </tr>\n",
       "    <tr>\n",
       "      <th>18</th>\n",
       "      <td>CHEMBL2435681</td>\n",
       "      <td>1</td>\n",
       "      <td>O=C(c1ccccc1)n1nc(-c2ccccc2)c2c1CCN(S(=O)(=O)c...</td>\n",
       "    </tr>\n",
       "    <tr>\n",
       "      <th>19</th>\n",
       "      <td>CHEMBL2435692</td>\n",
       "      <td>1</td>\n",
       "      <td>O=C(Nc1cccc2ccccc12)N1CCc2c(c(-c3ccccc3)nn2C(=...</td>\n",
       "    </tr>\n",
       "    <tr>\n",
       "      <th>20</th>\n",
       "      <td>CHEMBL2435688</td>\n",
       "      <td>1</td>\n",
       "      <td>O=C(Nc1ccc([N+](=O)[O-])cc1)N1CCc2c(c(-c3ccccc...</td>\n",
       "    </tr>\n",
       "    <tr>\n",
       "      <th>21</th>\n",
       "      <td>CHEMBL2435686</td>\n",
       "      <td>1</td>\n",
       "      <td>O=C(Nc1ccc(Br)cc1)N1CCc2c(c(-c3ccccc3)nn2C(=O)...</td>\n",
       "    </tr>\n",
       "    <tr>\n",
       "      <th>22</th>\n",
       "      <td>CHEMBL3121934</td>\n",
       "      <td>1</td>\n",
       "      <td>CC(=O)N1CCc2c(sc(NC(=O)c3cccs3)c2C(N)=O)C1</td>\n",
       "    </tr>\n",
       "    <tr>\n",
       "      <th>23</th>\n",
       "      <td>CHEMBL44884</td>\n",
       "      <td>1</td>\n",
       "      <td>CCC(CO)NCCNC(CC)CO</td>\n",
       "    </tr>\n",
       "    <tr>\n",
       "      <th>24</th>\n",
       "      <td>CHEMBL3121933</td>\n",
       "      <td>1</td>\n",
       "      <td>COc1ccc(S(=O)(=O)N2CCc3c(sc(NC(=O)c4ccc([N+](=...</td>\n",
       "    </tr>\n",
       "    <tr>\n",
       "      <th>25</th>\n",
       "      <td>CHEMBL3121932</td>\n",
       "      <td>1</td>\n",
       "      <td>CC(=O)c1ccc(S(=O)(=O)N2CCc3c(sc(NC(=O)c4ccc([N...</td>\n",
       "    </tr>\n",
       "    <tr>\n",
       "      <th>26</th>\n",
       "      <td>CHEMBL3121931</td>\n",
       "      <td>1</td>\n",
       "      <td>NC(=O)c1c(NC(=O)c2ccc([N+](=O)[O-])o2)sc2c1CCN...</td>\n",
       "    </tr>\n",
       "    <tr>\n",
       "      <th>27</th>\n",
       "      <td>CHEMBL3121930</td>\n",
       "      <td>1</td>\n",
       "      <td>NC(=O)c1c(NC(=O)c2ccc([N+](=O)[O-])o2)sc2c1CCN...</td>\n",
       "    </tr>\n",
       "    <tr>\n",
       "      <th>28</th>\n",
       "      <td>CHEMBL3121929</td>\n",
       "      <td>1</td>\n",
       "      <td>NC(=O)c1c(NC(=O)c2ccc([N+](=O)[O-])o2)sc2c1CCN...</td>\n",
       "    </tr>\n",
       "    <tr>\n",
       "      <th>29</th>\n",
       "      <td>CHEMBL3121928</td>\n",
       "      <td>1</td>\n",
       "      <td>NC(=O)c1c(NC(=O)c2ccc([N+](=O)[O-])o2)sc2c1CCN...</td>\n",
       "    </tr>\n",
       "    <tr>\n",
       "      <th>30</th>\n",
       "      <td>CHEMBL3121927</td>\n",
       "      <td>1</td>\n",
       "      <td>NC(=O)c1c(NC(=O)c2ccc([N+](=O)[O-])o2)sc2c1CCN...</td>\n",
       "    </tr>\n",
       "    <tr>\n",
       "      <th>31</th>\n",
       "      <td>CHEMBL3121926</td>\n",
       "      <td>1</td>\n",
       "      <td>NC(=O)c1c(NC(=O)c2ccc([N+](=O)[O-])o2)sc2c1CCN...</td>\n",
       "    </tr>\n",
       "    <tr>\n",
       "      <th>32</th>\n",
       "      <td>CHEMBL3121925</td>\n",
       "      <td>1</td>\n",
       "      <td>NC(=O)c1c(NC(=O)c2ccc([N+](=O)[O-])o2)sc2c1CCN...</td>\n",
       "    </tr>\n",
       "    <tr>\n",
       "      <th>33</th>\n",
       "      <td>CHEMBL3121924</td>\n",
       "      <td>1</td>\n",
       "      <td>COc1ccc(NC(=O)N2CCc3c(sc(NC(=O)c4ccc([N+](=O)[...</td>\n",
       "    </tr>\n",
       "    <tr>\n",
       "      <th>34</th>\n",
       "      <td>CHEMBL3121950</td>\n",
       "      <td>1</td>\n",
       "      <td>NC(=O)c1c(NC(=O)c2ccc([N+](=O)[O-])o2)sc2c1CCN...</td>\n",
       "    </tr>\n",
       "    <tr>\n",
       "      <th>35</th>\n",
       "      <td>CHEMBL3121949</td>\n",
       "      <td>1</td>\n",
       "      <td>NC(=O)c1c(NC(=O)c2ccc([N+](=O)[O-])o2)sc2c1CCN...</td>\n",
       "    </tr>\n",
       "    <tr>\n",
       "      <th>36</th>\n",
       "      <td>CHEMBL3121948</td>\n",
       "      <td>1</td>\n",
       "      <td>NC(=O)c1c(NC(=O)c2ccc([N+](=O)[O-])o2)sc2c1CCN...</td>\n",
       "    </tr>\n",
       "    <tr>\n",
       "      <th>37</th>\n",
       "      <td>CHEMBL3121947</td>\n",
       "      <td>1</td>\n",
       "      <td>COc1ccc(S(=O)(=O)N2CCc3c(sc(NC(=O)c4ccc([N+](=...</td>\n",
       "    </tr>\n",
       "    <tr>\n",
       "      <th>38</th>\n",
       "      <td>CHEMBL3121946</td>\n",
       "      <td>1</td>\n",
       "      <td>CC(=O)c1ccc(S(=O)(=O)N2CCc3c(sc(NC(=O)c4ccc([N...</td>\n",
       "    </tr>\n",
       "    <tr>\n",
       "      <th>39</th>\n",
       "      <td>CHEMBL3121944</td>\n",
       "      <td>1</td>\n",
       "      <td>NC(=O)c1c(NC(=O)c2ccc([N+](=O)[O-])s2)sc2c1CCN...</td>\n",
       "    </tr>\n",
       "    <tr>\n",
       "      <th>40</th>\n",
       "      <td>CHEMBL3121943</td>\n",
       "      <td>1</td>\n",
       "      <td>NC(=O)c1c(NC(=O)c2ccc([N+](=O)[O-])s2)sc2c1CCN...</td>\n",
       "    </tr>\n",
       "    <tr>\n",
       "      <th>41</th>\n",
       "      <td>CHEMBL3121942</td>\n",
       "      <td>1</td>\n",
       "      <td>NC(=O)c1c(NC(=O)c2ccc([N+](=O)[O-])s2)sc2c1CCN...</td>\n",
       "    </tr>\n",
       "    <tr>\n",
       "      <th>42</th>\n",
       "      <td>CHEMBL3121939</td>\n",
       "      <td>1</td>\n",
       "      <td>NC(=O)c1c(NC(=O)c2ccc([N+](=O)[O-])s2)sc2c1CCN...</td>\n",
       "    </tr>\n",
       "    <tr>\n",
       "      <th>43</th>\n",
       "      <td>CHEMBL3121938</td>\n",
       "      <td>1</td>\n",
       "      <td>COc1ccc(NC(=O)N2CCc3c(sc(NC(=O)c4ccc([N+](=O)[...</td>\n",
       "    </tr>\n",
       "    <tr>\n",
       "      <th>44</th>\n",
       "      <td>CHEMBL3121937</td>\n",
       "      <td>1</td>\n",
       "      <td>NC(=O)c1c(NC(=O)c2ccc([N+](=O)[O-])s2)sc2c1CCN...</td>\n",
       "    </tr>\n",
       "    <tr>\n",
       "      <th>45</th>\n",
       "      <td>CHEMBL3121935</td>\n",
       "      <td>1</td>\n",
       "      <td>NC(=O)c1c(NC(=O)c2ccc([N+](=O)[O-])s2)sc2c1CCN...</td>\n",
       "    </tr>\n",
       "    <tr>\n",
       "      <th>46</th>\n",
       "      <td>CHEMBL3212161</td>\n",
       "      <td>1</td>\n",
       "      <td>Cc1nc2ccccn2c1C(=O)N/N=C/c1ccc([N+](=O)[O-])cc1</td>\n",
       "    </tr>\n",
       "    <tr>\n",
       "      <th>47</th>\n",
       "      <td>CHEMBL3310312</td>\n",
       "      <td>1</td>\n",
       "      <td>Cc1nc2ccccn2c1C(=O)Nc1ccccc1</td>\n",
       "    </tr>\n",
       "    <tr>\n",
       "      <th>48</th>\n",
       "      <td>CHEMBL3310314</td>\n",
       "      <td>1</td>\n",
       "      <td>Cc1nc2ccccn2c1C(=O)Nc1ccccn1</td>\n",
       "    </tr>\n",
       "    <tr>\n",
       "      <th>49</th>\n",
       "      <td>CHEMBL3310318</td>\n",
       "      <td>1</td>\n",
       "      <td>CCOc1ccc(NC(=O)c2c(C)nc3ccccn23)cc1</td>\n",
       "    </tr>\n",
       "    <tr>\n",
       "      <th>50</th>\n",
       "      <td>CHEMBL3764865</td>\n",
       "      <td>0</td>\n",
       "      <td>Cc1nc2sc3ccccc3n2c1C(=O)NNC(=O)c1ccc(Oc2ccccc2...</td>\n",
       "    </tr>\n",
       "    <tr>\n",
       "      <th>51</th>\n",
       "      <td>CHEMBL3765314</td>\n",
       "      <td>0</td>\n",
       "      <td>Cc1nc2sccn2c1C(=O)NNC(=O)c1cccc2ccccc12</td>\n",
       "    </tr>\n",
       "    <tr>\n",
       "      <th>52</th>\n",
       "      <td>CHEMBL3764614</td>\n",
       "      <td>0</td>\n",
       "      <td>Cc1nc2sccn2c1C(=O)N/N=C/c1ccc(C(F)(F)F)cc1</td>\n",
       "    </tr>\n",
       "    <tr>\n",
       "      <th>53</th>\n",
       "      <td>CHEMBL3763241</td>\n",
       "      <td>0</td>\n",
       "      <td>Cc1nc2sccn2c1C(=O)N/N=C/c1ccccc1</td>\n",
       "    </tr>\n",
       "    <tr>\n",
       "      <th>54</th>\n",
       "      <td>CHEMBL3764280</td>\n",
       "      <td>0</td>\n",
       "      <td>Cc1nc2sccn2c1C(=O)Nc1ccc(Br)cc1</td>\n",
       "    </tr>\n",
       "    <tr>\n",
       "      <th>55</th>\n",
       "      <td>CHEMBL3765736</td>\n",
       "      <td>0</td>\n",
       "      <td>Cc1nc2sccn2c1C(=O)Nc1ccccc1</td>\n",
       "    </tr>\n",
       "    <tr>\n",
       "      <th>56</th>\n",
       "      <td>CHEMBL3765483</td>\n",
       "      <td>0</td>\n",
       "      <td>Cc1nc2sc3ccccc3n2c1C(=O)Nc1ccc(Br)cc1</td>\n",
       "    </tr>\n",
       "    <tr>\n",
       "      <th>57</th>\n",
       "      <td>CHEMBL3764694</td>\n",
       "      <td>0</td>\n",
       "      <td>Cc1nc2sc3ccccc3n2c1C(=O)NCc1ccccc1</td>\n",
       "    </tr>\n",
       "    <tr>\n",
       "      <th>58</th>\n",
       "      <td>CHEMBL3818314</td>\n",
       "      <td>0</td>\n",
       "      <td>COc1ccc2c(c1)cc(C(=O)NS(=O)(=O)Cc1ccc(C(F)(F)F...</td>\n",
       "    </tr>\n",
       "  </tbody>\n",
       "</table>\n",
       "</div>"
      ],
      "text/plain": [
       "   molecule_chembl_id  activity_class  \\\n",
       "0        CHEMBL412059               0   \n",
       "1        CHEMBL438202               0   \n",
       "2        CHEMBL261734               0   \n",
       "3        CHEMBL410040               0   \n",
       "4        CHEMBL409299               0   \n",
       "5        CHEMBL261486               0   \n",
       "6        CHEMBL261487               0   \n",
       "7        CHEMBL428787               0   \n",
       "8        CHEMBL260779               0   \n",
       "9        CHEMBL258966               0   \n",
       "10       CHEMBL409940               0   \n",
       "11       CHEMBL408197               0   \n",
       "12       CHEMBL259507               0   \n",
       "13       CHEMBL260609               1   \n",
       "14      CHEMBL1439099               1   \n",
       "15      CHEMBL1797249               1   \n",
       "16      CHEMBL2435653               1   \n",
       "17      CHEMBL2435683               1   \n",
       "18      CHEMBL2435681               1   \n",
       "19      CHEMBL2435692               1   \n",
       "20      CHEMBL2435688               1   \n",
       "21      CHEMBL2435686               1   \n",
       "22      CHEMBL3121934               1   \n",
       "23        CHEMBL44884               1   \n",
       "24      CHEMBL3121933               1   \n",
       "25      CHEMBL3121932               1   \n",
       "26      CHEMBL3121931               1   \n",
       "27      CHEMBL3121930               1   \n",
       "28      CHEMBL3121929               1   \n",
       "29      CHEMBL3121928               1   \n",
       "30      CHEMBL3121927               1   \n",
       "31      CHEMBL3121926               1   \n",
       "32      CHEMBL3121925               1   \n",
       "33      CHEMBL3121924               1   \n",
       "34      CHEMBL3121950               1   \n",
       "35      CHEMBL3121949               1   \n",
       "36      CHEMBL3121948               1   \n",
       "37      CHEMBL3121947               1   \n",
       "38      CHEMBL3121946               1   \n",
       "39      CHEMBL3121944               1   \n",
       "40      CHEMBL3121943               1   \n",
       "41      CHEMBL3121942               1   \n",
       "42      CHEMBL3121939               1   \n",
       "43      CHEMBL3121938               1   \n",
       "44      CHEMBL3121937               1   \n",
       "45      CHEMBL3121935               1   \n",
       "46      CHEMBL3212161               1   \n",
       "47      CHEMBL3310312               1   \n",
       "48      CHEMBL3310314               1   \n",
       "49      CHEMBL3310318               1   \n",
       "50      CHEMBL3764865               0   \n",
       "51      CHEMBL3765314               0   \n",
       "52      CHEMBL3764614               0   \n",
       "53      CHEMBL3763241               0   \n",
       "54      CHEMBL3764280               0   \n",
       "55      CHEMBL3765736               0   \n",
       "56      CHEMBL3765483               0   \n",
       "57      CHEMBL3764694               0   \n",
       "58      CHEMBL3818314               0   \n",
       "\n",
       "                                  preprocessed_smiles  \n",
       "0    Cc1ccccc1Cn1cc(NC(=O)c2noc3c2CC(C(C)(C)C)CC3)cn1  \n",
       "1   CC(C)(C)C1CCc2onc(C(=O)Nc3cnn(Cc4ccc(C(=O)NCCc...  \n",
       "2   CC(C)(C)C1CCc2onc(C(=O)Nc3cnn(Cc4ccc(C(=O)NCc5...  \n",
       "3   CC(C)(C)OC(=O)c1ccc(Cn2cc(NC(=O)c3noc4c3CC(C(C...  \n",
       "4   CC(C)(C)C1CCc2onc(C(=O)Nc3cnn(Cc4ccc(C(=O)O)cc...  \n",
       "5   CC(C)(C)C1CCc2onc(C(=O)Nc3cnn(Cc4ccc(F)cc4F)c3...  \n",
       "6   COC(=O)c1ccc(Cn2cc(NC(=O)c3noc4c3CC(C(C)(C)C)C...  \n",
       "7   CC(C)(C)C1CCc2onc(C(=O)Nc3cnn(Cc4ccc5ccccc5c4)...  \n",
       "8    CC(C)(C)C1CCc2onc(C(=O)Nc3cnn(Cc4ccccc4I)c3)c2C1  \n",
       "9   CC(C)(C)C1CCc2onc(C(=O)Nc3cnn(Cc4ccc(Cl)cc4)c3...  \n",
       "10  CC(C)(C)C1CCc2onc(C(=O)Nc3cnn(Cc4ccccc4Br)c3)c2C1  \n",
       "11    CC(C)(C)C1CCc2onc(C(=O)Nc3cnn(Cc4ccccc4)c3)c2C1  \n",
       "12  CC(C)(C)C1CCc2onc(C(=O)Nc3cnn(Cc4ccc(F)cc4)c3)...  \n",
       "13            CC(C)(C)C1CCc2onc(C(=O)Nc3cn[nH]c3)c2C1  \n",
       "14  CCN(CC)CCOC(=O)C(Cc1cccc2ccccc12)CC1CCCO1.O=C(...  \n",
       "15             COC(=O)c1cc2c(OCc3ccccc3)cc(N)cc2[nH]1  \n",
       "16          CC(C)(C)OC(=O)N1CCc2[nH]nc(-c3ccccc3)c2C1  \n",
       "17  CC(=O)c1ccc(S(=O)(=O)N2CCc3c(c(-c4ccccc4)nn3C(...  \n",
       "18  O=C(c1ccccc1)n1nc(-c2ccccc2)c2c1CCN(S(=O)(=O)c...  \n",
       "19  O=C(Nc1cccc2ccccc12)N1CCc2c(c(-c3ccccc3)nn2C(=...  \n",
       "20  O=C(Nc1ccc([N+](=O)[O-])cc1)N1CCc2c(c(-c3ccccc...  \n",
       "21  O=C(Nc1ccc(Br)cc1)N1CCc2c(c(-c3ccccc3)nn2C(=O)...  \n",
       "22         CC(=O)N1CCc2c(sc(NC(=O)c3cccs3)c2C(N)=O)C1  \n",
       "23                                 CCC(CO)NCCNC(CC)CO  \n",
       "24  COc1ccc(S(=O)(=O)N2CCc3c(sc(NC(=O)c4ccc([N+](=...  \n",
       "25  CC(=O)c1ccc(S(=O)(=O)N2CCc3c(sc(NC(=O)c4ccc([N...  \n",
       "26  NC(=O)c1c(NC(=O)c2ccc([N+](=O)[O-])o2)sc2c1CCN...  \n",
       "27  NC(=O)c1c(NC(=O)c2ccc([N+](=O)[O-])o2)sc2c1CCN...  \n",
       "28  NC(=O)c1c(NC(=O)c2ccc([N+](=O)[O-])o2)sc2c1CCN...  \n",
       "29  NC(=O)c1c(NC(=O)c2ccc([N+](=O)[O-])o2)sc2c1CCN...  \n",
       "30  NC(=O)c1c(NC(=O)c2ccc([N+](=O)[O-])o2)sc2c1CCN...  \n",
       "31  NC(=O)c1c(NC(=O)c2ccc([N+](=O)[O-])o2)sc2c1CCN...  \n",
       "32  NC(=O)c1c(NC(=O)c2ccc([N+](=O)[O-])o2)sc2c1CCN...  \n",
       "33  COc1ccc(NC(=O)N2CCc3c(sc(NC(=O)c4ccc([N+](=O)[...  \n",
       "34  NC(=O)c1c(NC(=O)c2ccc([N+](=O)[O-])o2)sc2c1CCN...  \n",
       "35  NC(=O)c1c(NC(=O)c2ccc([N+](=O)[O-])o2)sc2c1CCN...  \n",
       "36  NC(=O)c1c(NC(=O)c2ccc([N+](=O)[O-])o2)sc2c1CCN...  \n",
       "37  COc1ccc(S(=O)(=O)N2CCc3c(sc(NC(=O)c4ccc([N+](=...  \n",
       "38  CC(=O)c1ccc(S(=O)(=O)N2CCc3c(sc(NC(=O)c4ccc([N...  \n",
       "39  NC(=O)c1c(NC(=O)c2ccc([N+](=O)[O-])s2)sc2c1CCN...  \n",
       "40  NC(=O)c1c(NC(=O)c2ccc([N+](=O)[O-])s2)sc2c1CCN...  \n",
       "41  NC(=O)c1c(NC(=O)c2ccc([N+](=O)[O-])s2)sc2c1CCN...  \n",
       "42  NC(=O)c1c(NC(=O)c2ccc([N+](=O)[O-])s2)sc2c1CCN...  \n",
       "43  COc1ccc(NC(=O)N2CCc3c(sc(NC(=O)c4ccc([N+](=O)[...  \n",
       "44  NC(=O)c1c(NC(=O)c2ccc([N+](=O)[O-])s2)sc2c1CCN...  \n",
       "45  NC(=O)c1c(NC(=O)c2ccc([N+](=O)[O-])s2)sc2c1CCN...  \n",
       "46    Cc1nc2ccccn2c1C(=O)N/N=C/c1ccc([N+](=O)[O-])cc1  \n",
       "47                       Cc1nc2ccccn2c1C(=O)Nc1ccccc1  \n",
       "48                       Cc1nc2ccccn2c1C(=O)Nc1ccccn1  \n",
       "49                CCOc1ccc(NC(=O)c2c(C)nc3ccccn23)cc1  \n",
       "50  Cc1nc2sc3ccccc3n2c1C(=O)NNC(=O)c1ccc(Oc2ccccc2...  \n",
       "51            Cc1nc2sccn2c1C(=O)NNC(=O)c1cccc2ccccc12  \n",
       "52         Cc1nc2sccn2c1C(=O)N/N=C/c1ccc(C(F)(F)F)cc1  \n",
       "53                   Cc1nc2sccn2c1C(=O)N/N=C/c1ccccc1  \n",
       "54                    Cc1nc2sccn2c1C(=O)Nc1ccc(Br)cc1  \n",
       "55                        Cc1nc2sccn2c1C(=O)Nc1ccccc1  \n",
       "56              Cc1nc2sc3ccccc3n2c1C(=O)Nc1ccc(Br)cc1  \n",
       "57                 Cc1nc2sc3ccccc3n2c1C(=O)NCc1ccccc1  \n",
       "58  COc1ccc2c(c1)cc(C(=O)NS(=O)(=O)Cc1ccc(C(F)(F)F...  "
      ]
     },
     "execution_count": 3,
     "metadata": {},
     "output_type": "execute_result"
    }
   ],
   "source": [
    "df = pd.read_csv(\"Data/Final_dataframe_encoded.csv\")\n",
    "df"
   ]
  },
  {
   "cell_type": "code",
   "execution_count": 4,
   "id": "3b5c8219-2996-48b7-87d6-007a509e6ed2",
   "metadata": {
    "executionInfo": {
     "elapsed": 738,
     "status": "ok",
     "timestamp": 1712865253534,
     "user": {
      "displayName": "ANKIT SINGH dharmvir singh",
      "userId": "08327006042311051948"
     },
     "user_tz": -330
    },
    "id": "3b5c8219-2996-48b7-87d6-007a509e6ed2"
   },
   "outputs": [],
   "source": [
    "X = df['preprocessed_smiles']\n",
    "\n",
    "y = df['activity_class']"
   ]
  },
  {
   "cell_type": "code",
   "execution_count": 5,
   "id": "d4237558-a438-4e98-a575-5f5d156a7993",
   "metadata": {
    "executionInfo": {
     "elapsed": 4,
     "status": "ok",
     "timestamp": 1712865254064,
     "user": {
      "displayName": "ANKIT SINGH dharmvir singh",
      "userId": "08327006042311051948"
     },
     "user_tz": -330
    },
    "id": "d4237558-a438-4e98-a575-5f5d156a7993"
   },
   "outputs": [],
   "source": [
    "# divide data into train and test set\n",
    "from sklearn.model_selection import train_test_split\n",
    "\n",
    "X_train, X_test, y_train, y_test = train_test_split(X, y, test_size=0.2, random_state=42, stratify = y)"
   ]
  },
  {
   "cell_type": "code",
   "execution_count": 6,
   "id": "89998857-9936-4fed-b8ab-c4e05972403e",
   "metadata": {
    "colab": {
     "base_uri": "https://localhost:8080/"
    },
    "executionInfo": {
     "elapsed": 6,
     "status": "ok",
     "timestamp": 1712865255743,
     "user": {
      "displayName": "ANKIT SINGH dharmvir singh",
      "userId": "08327006042311051948"
     },
     "user_tz": -330
    },
    "id": "89998857-9936-4fed-b8ab-c4e05972403e",
    "outputId": "2e09c7b5-01c9-4517-de58-f58240407b45"
   },
   "outputs": [
    {
     "name": "stdout",
     "output_type": "stream",
     "text": [
      "47\n",
      "12\n"
     ]
    }
   ],
   "source": [
    "print(X_train.size)\n",
    "print(X_test.size)"
   ]
  },
  {
   "cell_type": "markdown",
   "id": "12f65081-b812-4f34-a523-7a6cdd43180d",
   "metadata": {
    "id": "12f65081-b812-4f34-a523-7a6cdd43180d"
   },
   "source": [
    "## Creating Circular Fingerprints"
   ]
  },
  {
   "cell_type": "code",
   "execution_count": 7,
   "id": "55677f0e-e451-4085-a385-92bcdaf0c78c",
   "metadata": {
    "executionInfo": {
     "elapsed": 5,
     "status": "ok",
     "timestamp": 1712865261664,
     "user": {
      "displayName": "ANKIT SINGH dharmvir singh",
      "userId": "08327006042311051948"
     },
     "user_tz": -330
    },
    "id": "55677f0e-e451-4085-a385-92bcdaf0c78c"
   },
   "outputs": [],
   "source": [
    "# convers a list of SMILEs to a list of mols\n",
    "def smi_to_mols(smi_list):\n",
    "    mols_list = [Chem.MolFromSmiles(smile) for smile in smi_list]\n",
    "    return mols_list\n",
    "\n",
    "\n",
    "# returns morgan fingerprints as a 2D array for a list of SMILE strings\n",
    "def get_morgan_fingerprints(smi_list, size, radius, useFeatures, useCounts=True):\n",
    "        mols = smi_to_mols(smi_list)\n",
    "        fps = [AllChem.GetMorganFingerprint(mol, radius, useCounts=useCounts, useFeatures=useFeatures) for mol in mols]\n",
    "        fps_arr = np.zeros((len(fps), size), np.int32)\n",
    "        for i, fp in enumerate(fps):\n",
    "            for index, value in fp.GetNonzeroElements().items():\n",
    "                n_index = index % size\n",
    "                fps_arr[i, n_index] += int(value)\n",
    "        return fps_arr"
   ]
  },
  {
   "cell_type": "code",
   "execution_count": 8,
   "id": "32d33066-61a5-4dfe-b861-9a825e12342e",
   "metadata": {
    "executionInfo": {
     "elapsed": 4,
     "status": "ok",
     "timestamp": 1712865263960,
     "user": {
      "displayName": "ANKIT SINGH dharmvir singh",
      "userId": "08327006042311051948"
     },
     "user_tz": -330
    },
    "id": "32d33066-61a5-4dfe-b861-9a825e12342e"
   },
   "outputs": [],
   "source": [
    "# conver series to a list\n",
    "X_train_list = X_train.tolist()\n",
    "X_test_list = X_test.tolist()"
   ]
  },
  {
   "cell_type": "code",
   "execution_count": 9,
   "id": "6f19efa1-439f-4297-8e94-bd94b8ce1fa1",
   "metadata": {
    "executionInfo": {
     "elapsed": 5913,
     "status": "ok",
     "timestamp": 1712865271852,
     "user": {
      "displayName": "ANKIT SINGH dharmvir singh",
      "userId": "08327006042311051948"
     },
     "user_tz": -330
    },
    "id": "6f19efa1-439f-4297-8e94-bd94b8ce1fa1"
   },
   "outputs": [],
   "source": [
    "# get fingerprints for training and test data\n",
    "X_train_arr = get_morgan_fingerprints(X_train_list, size=2048, radius=2, useFeatures=True, useCounts=True)\n",
    "X_test_arr = get_morgan_fingerprints(X_test_list, size=2048, radius=2, useFeatures=True, useCounts=True)"
   ]
  },
  {
   "cell_type": "code",
   "execution_count": 10,
   "id": "0a4b3e85-294c-4cdc-852a-975d47b859ac",
   "metadata": {
    "colab": {
     "base_uri": "https://localhost:8080/"
    },
    "executionInfo": {
     "elapsed": 27,
     "status": "ok",
     "timestamp": 1712865271853,
     "user": {
      "displayName": "ANKIT SINGH dharmvir singh",
      "userId": "08327006042311051948"
     },
     "user_tz": -330
    },
    "id": "0a4b3e85-294c-4cdc-852a-975d47b859ac",
    "outputId": "96ad7aa9-e794-4be5-f5dc-d16da7af7cc5"
   },
   "outputs": [
    {
     "data": {
      "text/plain": [
       "array([[ 4,  1,  2, ...,  0,  0,  0],\n",
       "       [ 3,  0,  3, ...,  0,  0,  0],\n",
       "       [10,  1,  1, ...,  0,  0,  0],\n",
       "       ...,\n",
       "       [10,  1,  1, ...,  0,  0,  0],\n",
       "       [ 8,  2,  3, ...,  0,  0,  0],\n",
       "       [ 3,  1,  1, ...,  0,  0,  0]])"
      ]
     },
     "execution_count": 10,
     "metadata": {},
     "output_type": "execute_result"
    }
   ],
   "source": [
    "X_train_arr"
   ]
  },
  {
   "cell_type": "code",
   "execution_count": 11,
   "id": "56fac2ea-62a3-40be-8e4b-5669b247986e",
   "metadata": {
    "colab": {
     "base_uri": "https://localhost:8080/"
    },
    "executionInfo": {
     "elapsed": 7,
     "status": "ok",
     "timestamp": 1712865273885,
     "user": {
      "displayName": "ANKIT SINGH dharmvir singh",
      "userId": "08327006042311051948"
     },
     "user_tz": -330
    },
    "id": "56fac2ea-62a3-40be-8e4b-5669b247986e",
    "outputId": "1375c739-b758-4244-c913-591b74126ea8"
   },
   "outputs": [
    {
     "data": {
      "text/plain": [
       "(47, 2048)"
      ]
     },
     "execution_count": 11,
     "metadata": {},
     "output_type": "execute_result"
    }
   ],
   "source": [
    "# check the number of dimensions\n",
    "X_train_arr.shape"
   ]
  },
  {
   "cell_type": "code",
   "execution_count": 241,
   "id": "cec059c9-4f99-4d0f-a1e2-dd67609eb082",
   "metadata": {},
   "outputs": [],
   "source": [
    "g = pd.DataFrame(X_train_arr)"
   ]
  },
  {
   "cell_type": "code",
   "execution_count": 242,
   "id": "c07dd726-e5bf-4068-9db0-c8d4e1947de5",
   "metadata": {
    "scrolled": true
   },
   "outputs": [
    {
     "data": {
      "text/html": [
       "<div>\n",
       "<style scoped>\n",
       "    .dataframe tbody tr th:only-of-type {\n",
       "        vertical-align: middle;\n",
       "    }\n",
       "\n",
       "    .dataframe tbody tr th {\n",
       "        vertical-align: top;\n",
       "    }\n",
       "\n",
       "    .dataframe thead th {\n",
       "        text-align: right;\n",
       "    }\n",
       "</style>\n",
       "<table border=\"1\" class=\"dataframe\">\n",
       "  <thead>\n",
       "    <tr style=\"text-align: right;\">\n",
       "      <th></th>\n",
       "      <th>0</th>\n",
       "      <th>1</th>\n",
       "      <th>2</th>\n",
       "      <th>3</th>\n",
       "      <th>4</th>\n",
       "      <th>5</th>\n",
       "      <th>6</th>\n",
       "      <th>7</th>\n",
       "      <th>8</th>\n",
       "      <th>9</th>\n",
       "      <th>...</th>\n",
       "      <th>2038</th>\n",
       "      <th>2039</th>\n",
       "      <th>2040</th>\n",
       "      <th>2041</th>\n",
       "      <th>2042</th>\n",
       "      <th>2043</th>\n",
       "      <th>2044</th>\n",
       "      <th>2045</th>\n",
       "      <th>2046</th>\n",
       "      <th>2047</th>\n",
       "    </tr>\n",
       "  </thead>\n",
       "  <tbody>\n",
       "    <tr>\n",
       "      <th>0</th>\n",
       "      <td>4</td>\n",
       "      <td>1</td>\n",
       "      <td>2</td>\n",
       "      <td>0</td>\n",
       "      <td>13</td>\n",
       "      <td>0</td>\n",
       "      <td>2</td>\n",
       "      <td>0</td>\n",
       "      <td>0</td>\n",
       "      <td>0</td>\n",
       "      <td>...</td>\n",
       "      <td>0</td>\n",
       "      <td>1</td>\n",
       "      <td>3</td>\n",
       "      <td>0</td>\n",
       "      <td>0</td>\n",
       "      <td>0</td>\n",
       "      <td>0</td>\n",
       "      <td>0</td>\n",
       "      <td>0</td>\n",
       "      <td>0</td>\n",
       "    </tr>\n",
       "    <tr>\n",
       "      <th>1</th>\n",
       "      <td>3</td>\n",
       "      <td>0</td>\n",
       "      <td>3</td>\n",
       "      <td>0</td>\n",
       "      <td>14</td>\n",
       "      <td>1</td>\n",
       "      <td>0</td>\n",
       "      <td>0</td>\n",
       "      <td>0</td>\n",
       "      <td>0</td>\n",
       "      <td>...</td>\n",
       "      <td>0</td>\n",
       "      <td>0</td>\n",
       "      <td>1</td>\n",
       "      <td>0</td>\n",
       "      <td>0</td>\n",
       "      <td>0</td>\n",
       "      <td>0</td>\n",
       "      <td>0</td>\n",
       "      <td>0</td>\n",
       "      <td>0</td>\n",
       "    </tr>\n",
       "    <tr>\n",
       "      <th>2</th>\n",
       "      <td>10</td>\n",
       "      <td>1</td>\n",
       "      <td>1</td>\n",
       "      <td>0</td>\n",
       "      <td>13</td>\n",
       "      <td>0</td>\n",
       "      <td>3</td>\n",
       "      <td>0</td>\n",
       "      <td>1</td>\n",
       "      <td>0</td>\n",
       "      <td>...</td>\n",
       "      <td>0</td>\n",
       "      <td>3</td>\n",
       "      <td>1</td>\n",
       "      <td>0</td>\n",
       "      <td>0</td>\n",
       "      <td>0</td>\n",
       "      <td>0</td>\n",
       "      <td>0</td>\n",
       "      <td>0</td>\n",
       "      <td>0</td>\n",
       "    </tr>\n",
       "    <tr>\n",
       "      <th>3</th>\n",
       "      <td>6</td>\n",
       "      <td>0</td>\n",
       "      <td>3</td>\n",
       "      <td>0</td>\n",
       "      <td>21</td>\n",
       "      <td>0</td>\n",
       "      <td>2</td>\n",
       "      <td>0</td>\n",
       "      <td>1</td>\n",
       "      <td>0</td>\n",
       "      <td>...</td>\n",
       "      <td>0</td>\n",
       "      <td>0</td>\n",
       "      <td>3</td>\n",
       "      <td>0</td>\n",
       "      <td>0</td>\n",
       "      <td>0</td>\n",
       "      <td>2</td>\n",
       "      <td>0</td>\n",
       "      <td>0</td>\n",
       "      <td>0</td>\n",
       "    </tr>\n",
       "    <tr>\n",
       "      <th>4</th>\n",
       "      <td>7</td>\n",
       "      <td>2</td>\n",
       "      <td>6</td>\n",
       "      <td>0</td>\n",
       "      <td>14</td>\n",
       "      <td>0</td>\n",
       "      <td>2</td>\n",
       "      <td>0</td>\n",
       "      <td>1</td>\n",
       "      <td>0</td>\n",
       "      <td>...</td>\n",
       "      <td>0</td>\n",
       "      <td>0</td>\n",
       "      <td>4</td>\n",
       "      <td>0</td>\n",
       "      <td>0</td>\n",
       "      <td>0</td>\n",
       "      <td>0</td>\n",
       "      <td>0</td>\n",
       "      <td>0</td>\n",
       "      <td>0</td>\n",
       "    </tr>\n",
       "    <tr>\n",
       "      <th>5</th>\n",
       "      <td>7</td>\n",
       "      <td>2</td>\n",
       "      <td>6</td>\n",
       "      <td>0</td>\n",
       "      <td>14</td>\n",
       "      <td>0</td>\n",
       "      <td>2</td>\n",
       "      <td>0</td>\n",
       "      <td>1</td>\n",
       "      <td>0</td>\n",
       "      <td>...</td>\n",
       "      <td>0</td>\n",
       "      <td>0</td>\n",
       "      <td>4</td>\n",
       "      <td>0</td>\n",
       "      <td>0</td>\n",
       "      <td>0</td>\n",
       "      <td>0</td>\n",
       "      <td>0</td>\n",
       "      <td>0</td>\n",
       "      <td>0</td>\n",
       "    </tr>\n",
       "    <tr>\n",
       "      <th>6</th>\n",
       "      <td>6</td>\n",
       "      <td>1</td>\n",
       "      <td>4</td>\n",
       "      <td>0</td>\n",
       "      <td>21</td>\n",
       "      <td>0</td>\n",
       "      <td>2</td>\n",
       "      <td>0</td>\n",
       "      <td>0</td>\n",
       "      <td>0</td>\n",
       "      <td>...</td>\n",
       "      <td>0</td>\n",
       "      <td>0</td>\n",
       "      <td>2</td>\n",
       "      <td>0</td>\n",
       "      <td>0</td>\n",
       "      <td>0</td>\n",
       "      <td>2</td>\n",
       "      <td>0</td>\n",
       "      <td>0</td>\n",
       "      <td>0</td>\n",
       "    </tr>\n",
       "    <tr>\n",
       "      <th>7</th>\n",
       "      <td>7</td>\n",
       "      <td>2</td>\n",
       "      <td>5</td>\n",
       "      <td>0</td>\n",
       "      <td>14</td>\n",
       "      <td>0</td>\n",
       "      <td>2</td>\n",
       "      <td>0</td>\n",
       "      <td>0</td>\n",
       "      <td>0</td>\n",
       "      <td>...</td>\n",
       "      <td>0</td>\n",
       "      <td>0</td>\n",
       "      <td>3</td>\n",
       "      <td>0</td>\n",
       "      <td>0</td>\n",
       "      <td>0</td>\n",
       "      <td>0</td>\n",
       "      <td>0</td>\n",
       "      <td>0</td>\n",
       "      <td>0</td>\n",
       "    </tr>\n",
       "    <tr>\n",
       "      <th>8</th>\n",
       "      <td>2</td>\n",
       "      <td>1</td>\n",
       "      <td>1</td>\n",
       "      <td>0</td>\n",
       "      <td>12</td>\n",
       "      <td>0</td>\n",
       "      <td>2</td>\n",
       "      <td>0</td>\n",
       "      <td>1</td>\n",
       "      <td>0</td>\n",
       "      <td>...</td>\n",
       "      <td>0</td>\n",
       "      <td>1</td>\n",
       "      <td>1</td>\n",
       "      <td>0</td>\n",
       "      <td>0</td>\n",
       "      <td>0</td>\n",
       "      <td>0</td>\n",
       "      <td>0</td>\n",
       "      <td>0</td>\n",
       "      <td>0</td>\n",
       "    </tr>\n",
       "    <tr>\n",
       "      <th>9</th>\n",
       "      <td>11</td>\n",
       "      <td>1</td>\n",
       "      <td>1</td>\n",
       "      <td>0</td>\n",
       "      <td>13</td>\n",
       "      <td>0</td>\n",
       "      <td>3</td>\n",
       "      <td>0</td>\n",
       "      <td>0</td>\n",
       "      <td>0</td>\n",
       "      <td>...</td>\n",
       "      <td>0</td>\n",
       "      <td>3</td>\n",
       "      <td>1</td>\n",
       "      <td>0</td>\n",
       "      <td>0</td>\n",
       "      <td>0</td>\n",
       "      <td>0</td>\n",
       "      <td>0</td>\n",
       "      <td>0</td>\n",
       "      <td>0</td>\n",
       "    </tr>\n",
       "    <tr>\n",
       "      <th>10</th>\n",
       "      <td>9</td>\n",
       "      <td>1</td>\n",
       "      <td>1</td>\n",
       "      <td>0</td>\n",
       "      <td>7</td>\n",
       "      <td>1</td>\n",
       "      <td>2</td>\n",
       "      <td>0</td>\n",
       "      <td>0</td>\n",
       "      <td>0</td>\n",
       "      <td>...</td>\n",
       "      <td>0</td>\n",
       "      <td>2</td>\n",
       "      <td>1</td>\n",
       "      <td>0</td>\n",
       "      <td>0</td>\n",
       "      <td>0</td>\n",
       "      <td>0</td>\n",
       "      <td>0</td>\n",
       "      <td>0</td>\n",
       "      <td>0</td>\n",
       "    </tr>\n",
       "    <tr>\n",
       "      <th>11</th>\n",
       "      <td>8</td>\n",
       "      <td>3</td>\n",
       "      <td>5</td>\n",
       "      <td>0</td>\n",
       "      <td>14</td>\n",
       "      <td>0</td>\n",
       "      <td>2</td>\n",
       "      <td>0</td>\n",
       "      <td>0</td>\n",
       "      <td>0</td>\n",
       "      <td>...</td>\n",
       "      <td>0</td>\n",
       "      <td>0</td>\n",
       "      <td>3</td>\n",
       "      <td>0</td>\n",
       "      <td>0</td>\n",
       "      <td>0</td>\n",
       "      <td>0</td>\n",
       "      <td>0</td>\n",
       "      <td>0</td>\n",
       "      <td>0</td>\n",
       "    </tr>\n",
       "    <tr>\n",
       "      <th>12</th>\n",
       "      <td>15</td>\n",
       "      <td>1</td>\n",
       "      <td>3</td>\n",
       "      <td>0</td>\n",
       "      <td>13</td>\n",
       "      <td>0</td>\n",
       "      <td>3</td>\n",
       "      <td>0</td>\n",
       "      <td>0</td>\n",
       "      <td>0</td>\n",
       "      <td>...</td>\n",
       "      <td>0</td>\n",
       "      <td>3</td>\n",
       "      <td>2</td>\n",
       "      <td>0</td>\n",
       "      <td>0</td>\n",
       "      <td>0</td>\n",
       "      <td>0</td>\n",
       "      <td>0</td>\n",
       "      <td>0</td>\n",
       "      <td>0</td>\n",
       "    </tr>\n",
       "    <tr>\n",
       "      <th>13</th>\n",
       "      <td>9</td>\n",
       "      <td>0</td>\n",
       "      <td>2</td>\n",
       "      <td>0</td>\n",
       "      <td>9</td>\n",
       "      <td>1</td>\n",
       "      <td>1</td>\n",
       "      <td>0</td>\n",
       "      <td>0</td>\n",
       "      <td>0</td>\n",
       "      <td>...</td>\n",
       "      <td>0</td>\n",
       "      <td>0</td>\n",
       "      <td>1</td>\n",
       "      <td>0</td>\n",
       "      <td>0</td>\n",
       "      <td>0</td>\n",
       "      <td>2</td>\n",
       "      <td>0</td>\n",
       "      <td>0</td>\n",
       "      <td>0</td>\n",
       "    </tr>\n",
       "    <tr>\n",
       "      <th>14</th>\n",
       "      <td>7</td>\n",
       "      <td>2</td>\n",
       "      <td>8</td>\n",
       "      <td>0</td>\n",
       "      <td>14</td>\n",
       "      <td>0</td>\n",
       "      <td>2</td>\n",
       "      <td>0</td>\n",
       "      <td>0</td>\n",
       "      <td>0</td>\n",
       "      <td>...</td>\n",
       "      <td>0</td>\n",
       "      <td>0</td>\n",
       "      <td>4</td>\n",
       "      <td>0</td>\n",
       "      <td>0</td>\n",
       "      <td>0</td>\n",
       "      <td>0</td>\n",
       "      <td>0</td>\n",
       "      <td>0</td>\n",
       "      <td>0</td>\n",
       "    </tr>\n",
       "    <tr>\n",
       "      <th>15</th>\n",
       "      <td>4</td>\n",
       "      <td>1</td>\n",
       "      <td>2</td>\n",
       "      <td>0</td>\n",
       "      <td>12</td>\n",
       "      <td>0</td>\n",
       "      <td>2</td>\n",
       "      <td>0</td>\n",
       "      <td>3</td>\n",
       "      <td>0</td>\n",
       "      <td>...</td>\n",
       "      <td>0</td>\n",
       "      <td>1</td>\n",
       "      <td>1</td>\n",
       "      <td>0</td>\n",
       "      <td>0</td>\n",
       "      <td>0</td>\n",
       "      <td>0</td>\n",
       "      <td>0</td>\n",
       "      <td>0</td>\n",
       "      <td>0</td>\n",
       "    </tr>\n",
       "    <tr>\n",
       "      <th>16</th>\n",
       "      <td>6</td>\n",
       "      <td>1</td>\n",
       "      <td>2</td>\n",
       "      <td>0</td>\n",
       "      <td>21</td>\n",
       "      <td>0</td>\n",
       "      <td>2</td>\n",
       "      <td>0</td>\n",
       "      <td>1</td>\n",
       "      <td>0</td>\n",
       "      <td>...</td>\n",
       "      <td>0</td>\n",
       "      <td>0</td>\n",
       "      <td>2</td>\n",
       "      <td>0</td>\n",
       "      <td>0</td>\n",
       "      <td>0</td>\n",
       "      <td>2</td>\n",
       "      <td>0</td>\n",
       "      <td>0</td>\n",
       "      <td>0</td>\n",
       "    </tr>\n",
       "    <tr>\n",
       "      <th>17</th>\n",
       "      <td>6</td>\n",
       "      <td>2</td>\n",
       "      <td>8</td>\n",
       "      <td>0</td>\n",
       "      <td>14</td>\n",
       "      <td>0</td>\n",
       "      <td>2</td>\n",
       "      <td>0</td>\n",
       "      <td>0</td>\n",
       "      <td>0</td>\n",
       "      <td>...</td>\n",
       "      <td>0</td>\n",
       "      <td>0</td>\n",
       "      <td>3</td>\n",
       "      <td>0</td>\n",
       "      <td>0</td>\n",
       "      <td>0</td>\n",
       "      <td>0</td>\n",
       "      <td>0</td>\n",
       "      <td>0</td>\n",
       "      <td>0</td>\n",
       "    </tr>\n",
       "    <tr>\n",
       "      <th>18</th>\n",
       "      <td>2</td>\n",
       "      <td>1</td>\n",
       "      <td>1</td>\n",
       "      <td>0</td>\n",
       "      <td>12</td>\n",
       "      <td>0</td>\n",
       "      <td>2</td>\n",
       "      <td>0</td>\n",
       "      <td>0</td>\n",
       "      <td>0</td>\n",
       "      <td>...</td>\n",
       "      <td>0</td>\n",
       "      <td>1</td>\n",
       "      <td>1</td>\n",
       "      <td>0</td>\n",
       "      <td>0</td>\n",
       "      <td>0</td>\n",
       "      <td>0</td>\n",
       "      <td>0</td>\n",
       "      <td>0</td>\n",
       "      <td>0</td>\n",
       "    </tr>\n",
       "    <tr>\n",
       "      <th>19</th>\n",
       "      <td>10</td>\n",
       "      <td>0</td>\n",
       "      <td>0</td>\n",
       "      <td>2</td>\n",
       "      <td>0</td>\n",
       "      <td>0</td>\n",
       "      <td>0</td>\n",
       "      <td>0</td>\n",
       "      <td>0</td>\n",
       "      <td>0</td>\n",
       "      <td>...</td>\n",
       "      <td>0</td>\n",
       "      <td>0</td>\n",
       "      <td>0</td>\n",
       "      <td>2</td>\n",
       "      <td>0</td>\n",
       "      <td>0</td>\n",
       "      <td>0</td>\n",
       "      <td>0</td>\n",
       "      <td>0</td>\n",
       "      <td>0</td>\n",
       "    </tr>\n",
       "    <tr>\n",
       "      <th>20</th>\n",
       "      <td>2</td>\n",
       "      <td>1</td>\n",
       "      <td>1</td>\n",
       "      <td>0</td>\n",
       "      <td>13</td>\n",
       "      <td>0</td>\n",
       "      <td>2</td>\n",
       "      <td>0</td>\n",
       "      <td>0</td>\n",
       "      <td>0</td>\n",
       "      <td>...</td>\n",
       "      <td>0</td>\n",
       "      <td>1</td>\n",
       "      <td>1</td>\n",
       "      <td>0</td>\n",
       "      <td>0</td>\n",
       "      <td>0</td>\n",
       "      <td>0</td>\n",
       "      <td>0</td>\n",
       "      <td>0</td>\n",
       "      <td>0</td>\n",
       "    </tr>\n",
       "    <tr>\n",
       "      <th>21</th>\n",
       "      <td>6</td>\n",
       "      <td>2</td>\n",
       "      <td>6</td>\n",
       "      <td>0</td>\n",
       "      <td>14</td>\n",
       "      <td>0</td>\n",
       "      <td>2</td>\n",
       "      <td>0</td>\n",
       "      <td>1</td>\n",
       "      <td>0</td>\n",
       "      <td>...</td>\n",
       "      <td>0</td>\n",
       "      <td>0</td>\n",
       "      <td>3</td>\n",
       "      <td>0</td>\n",
       "      <td>0</td>\n",
       "      <td>0</td>\n",
       "      <td>0</td>\n",
       "      <td>0</td>\n",
       "      <td>0</td>\n",
       "      <td>0</td>\n",
       "    </tr>\n",
       "    <tr>\n",
       "      <th>22</th>\n",
       "      <td>2</td>\n",
       "      <td>1</td>\n",
       "      <td>1</td>\n",
       "      <td>0</td>\n",
       "      <td>12</td>\n",
       "      <td>0</td>\n",
       "      <td>3</td>\n",
       "      <td>0</td>\n",
       "      <td>0</td>\n",
       "      <td>0</td>\n",
       "      <td>...</td>\n",
       "      <td>0</td>\n",
       "      <td>2</td>\n",
       "      <td>1</td>\n",
       "      <td>0</td>\n",
       "      <td>0</td>\n",
       "      <td>0</td>\n",
       "      <td>0</td>\n",
       "      <td>0</td>\n",
       "      <td>0</td>\n",
       "      <td>0</td>\n",
       "    </tr>\n",
       "    <tr>\n",
       "      <th>23</th>\n",
       "      <td>9</td>\n",
       "      <td>2</td>\n",
       "      <td>7</td>\n",
       "      <td>0</td>\n",
       "      <td>14</td>\n",
       "      <td>0</td>\n",
       "      <td>2</td>\n",
       "      <td>0</td>\n",
       "      <td>0</td>\n",
       "      <td>0</td>\n",
       "      <td>...</td>\n",
       "      <td>0</td>\n",
       "      <td>0</td>\n",
       "      <td>5</td>\n",
       "      <td>0</td>\n",
       "      <td>0</td>\n",
       "      <td>0</td>\n",
       "      <td>0</td>\n",
       "      <td>0</td>\n",
       "      <td>0</td>\n",
       "      <td>0</td>\n",
       "    </tr>\n",
       "    <tr>\n",
       "      <th>24</th>\n",
       "      <td>7</td>\n",
       "      <td>2</td>\n",
       "      <td>6</td>\n",
       "      <td>0</td>\n",
       "      <td>14</td>\n",
       "      <td>0</td>\n",
       "      <td>2</td>\n",
       "      <td>0</td>\n",
       "      <td>1</td>\n",
       "      <td>0</td>\n",
       "      <td>...</td>\n",
       "      <td>0</td>\n",
       "      <td>0</td>\n",
       "      <td>4</td>\n",
       "      <td>0</td>\n",
       "      <td>0</td>\n",
       "      <td>0</td>\n",
       "      <td>0</td>\n",
       "      <td>0</td>\n",
       "      <td>0</td>\n",
       "      <td>0</td>\n",
       "    </tr>\n",
       "    <tr>\n",
       "      <th>25</th>\n",
       "      <td>12</td>\n",
       "      <td>2</td>\n",
       "      <td>2</td>\n",
       "      <td>0</td>\n",
       "      <td>19</td>\n",
       "      <td>0</td>\n",
       "      <td>3</td>\n",
       "      <td>0</td>\n",
       "      <td>0</td>\n",
       "      <td>0</td>\n",
       "      <td>...</td>\n",
       "      <td>0</td>\n",
       "      <td>3</td>\n",
       "      <td>2</td>\n",
       "      <td>0</td>\n",
       "      <td>0</td>\n",
       "      <td>0</td>\n",
       "      <td>0</td>\n",
       "      <td>0</td>\n",
       "      <td>0</td>\n",
       "      <td>0</td>\n",
       "    </tr>\n",
       "    <tr>\n",
       "      <th>26</th>\n",
       "      <td>10</td>\n",
       "      <td>1</td>\n",
       "      <td>1</td>\n",
       "      <td>0</td>\n",
       "      <td>13</td>\n",
       "      <td>0</td>\n",
       "      <td>3</td>\n",
       "      <td>0</td>\n",
       "      <td>1</td>\n",
       "      <td>0</td>\n",
       "      <td>...</td>\n",
       "      <td>0</td>\n",
       "      <td>3</td>\n",
       "      <td>1</td>\n",
       "      <td>0</td>\n",
       "      <td>0</td>\n",
       "      <td>0</td>\n",
       "      <td>0</td>\n",
       "      <td>0</td>\n",
       "      <td>0</td>\n",
       "      <td>0</td>\n",
       "    </tr>\n",
       "    <tr>\n",
       "      <th>27</th>\n",
       "      <td>7</td>\n",
       "      <td>2</td>\n",
       "      <td>6</td>\n",
       "      <td>0</td>\n",
       "      <td>14</td>\n",
       "      <td>0</td>\n",
       "      <td>2</td>\n",
       "      <td>0</td>\n",
       "      <td>1</td>\n",
       "      <td>0</td>\n",
       "      <td>...</td>\n",
       "      <td>0</td>\n",
       "      <td>0</td>\n",
       "      <td>4</td>\n",
       "      <td>0</td>\n",
       "      <td>0</td>\n",
       "      <td>0</td>\n",
       "      <td>0</td>\n",
       "      <td>0</td>\n",
       "      <td>0</td>\n",
       "      <td>0</td>\n",
       "    </tr>\n",
       "    <tr>\n",
       "      <th>28</th>\n",
       "      <td>7</td>\n",
       "      <td>3</td>\n",
       "      <td>5</td>\n",
       "      <td>0</td>\n",
       "      <td>14</td>\n",
       "      <td>0</td>\n",
       "      <td>2</td>\n",
       "      <td>0</td>\n",
       "      <td>1</td>\n",
       "      <td>0</td>\n",
       "      <td>...</td>\n",
       "      <td>0</td>\n",
       "      <td>0</td>\n",
       "      <td>3</td>\n",
       "      <td>0</td>\n",
       "      <td>0</td>\n",
       "      <td>0</td>\n",
       "      <td>0</td>\n",
       "      <td>0</td>\n",
       "      <td>0</td>\n",
       "      <td>0</td>\n",
       "    </tr>\n",
       "    <tr>\n",
       "      <th>29</th>\n",
       "      <td>10</td>\n",
       "      <td>2</td>\n",
       "      <td>2</td>\n",
       "      <td>0</td>\n",
       "      <td>13</td>\n",
       "      <td>0</td>\n",
       "      <td>3</td>\n",
       "      <td>0</td>\n",
       "      <td>0</td>\n",
       "      <td>0</td>\n",
       "      <td>...</td>\n",
       "      <td>0</td>\n",
       "      <td>3</td>\n",
       "      <td>1</td>\n",
       "      <td>0</td>\n",
       "      <td>0</td>\n",
       "      <td>0</td>\n",
       "      <td>0</td>\n",
       "      <td>0</td>\n",
       "      <td>0</td>\n",
       "      <td>0</td>\n",
       "    </tr>\n",
       "    <tr>\n",
       "      <th>30</th>\n",
       "      <td>6</td>\n",
       "      <td>2</td>\n",
       "      <td>6</td>\n",
       "      <td>0</td>\n",
       "      <td>14</td>\n",
       "      <td>0</td>\n",
       "      <td>2</td>\n",
       "      <td>0</td>\n",
       "      <td>1</td>\n",
       "      <td>0</td>\n",
       "      <td>...</td>\n",
       "      <td>0</td>\n",
       "      <td>0</td>\n",
       "      <td>3</td>\n",
       "      <td>0</td>\n",
       "      <td>0</td>\n",
       "      <td>0</td>\n",
       "      <td>0</td>\n",
       "      <td>0</td>\n",
       "      <td>0</td>\n",
       "      <td>0</td>\n",
       "    </tr>\n",
       "    <tr>\n",
       "      <th>31</th>\n",
       "      <td>10</td>\n",
       "      <td>1</td>\n",
       "      <td>1</td>\n",
       "      <td>0</td>\n",
       "      <td>13</td>\n",
       "      <td>0</td>\n",
       "      <td>3</td>\n",
       "      <td>0</td>\n",
       "      <td>1</td>\n",
       "      <td>0</td>\n",
       "      <td>...</td>\n",
       "      <td>0</td>\n",
       "      <td>3</td>\n",
       "      <td>1</td>\n",
       "      <td>0</td>\n",
       "      <td>0</td>\n",
       "      <td>0</td>\n",
       "      <td>0</td>\n",
       "      <td>0</td>\n",
       "      <td>0</td>\n",
       "      <td>0</td>\n",
       "    </tr>\n",
       "    <tr>\n",
       "      <th>32</th>\n",
       "      <td>9</td>\n",
       "      <td>2</td>\n",
       "      <td>7</td>\n",
       "      <td>0</td>\n",
       "      <td>14</td>\n",
       "      <td>0</td>\n",
       "      <td>2</td>\n",
       "      <td>0</td>\n",
       "      <td>0</td>\n",
       "      <td>0</td>\n",
       "      <td>...</td>\n",
       "      <td>0</td>\n",
       "      <td>0</td>\n",
       "      <td>5</td>\n",
       "      <td>0</td>\n",
       "      <td>0</td>\n",
       "      <td>0</td>\n",
       "      <td>0</td>\n",
       "      <td>0</td>\n",
       "      <td>0</td>\n",
       "      <td>0</td>\n",
       "    </tr>\n",
       "    <tr>\n",
       "      <th>33</th>\n",
       "      <td>10</td>\n",
       "      <td>1</td>\n",
       "      <td>1</td>\n",
       "      <td>0</td>\n",
       "      <td>17</td>\n",
       "      <td>0</td>\n",
       "      <td>3</td>\n",
       "      <td>0</td>\n",
       "      <td>0</td>\n",
       "      <td>0</td>\n",
       "      <td>...</td>\n",
       "      <td>0</td>\n",
       "      <td>3</td>\n",
       "      <td>1</td>\n",
       "      <td>0</td>\n",
       "      <td>0</td>\n",
       "      <td>0</td>\n",
       "      <td>0</td>\n",
       "      <td>0</td>\n",
       "      <td>0</td>\n",
       "      <td>0</td>\n",
       "    </tr>\n",
       "    <tr>\n",
       "      <th>34</th>\n",
       "      <td>7</td>\n",
       "      <td>3</td>\n",
       "      <td>7</td>\n",
       "      <td>0</td>\n",
       "      <td>14</td>\n",
       "      <td>0</td>\n",
       "      <td>2</td>\n",
       "      <td>0</td>\n",
       "      <td>0</td>\n",
       "      <td>0</td>\n",
       "      <td>...</td>\n",
       "      <td>0</td>\n",
       "      <td>0</td>\n",
       "      <td>3</td>\n",
       "      <td>0</td>\n",
       "      <td>0</td>\n",
       "      <td>0</td>\n",
       "      <td>0</td>\n",
       "      <td>0</td>\n",
       "      <td>0</td>\n",
       "      <td>0</td>\n",
       "    </tr>\n",
       "    <tr>\n",
       "      <th>35</th>\n",
       "      <td>8</td>\n",
       "      <td>3</td>\n",
       "      <td>6</td>\n",
       "      <td>0</td>\n",
       "      <td>14</td>\n",
       "      <td>0</td>\n",
       "      <td>2</td>\n",
       "      <td>0</td>\n",
       "      <td>0</td>\n",
       "      <td>0</td>\n",
       "      <td>...</td>\n",
       "      <td>0</td>\n",
       "      <td>0</td>\n",
       "      <td>5</td>\n",
       "      <td>0</td>\n",
       "      <td>0</td>\n",
       "      <td>0</td>\n",
       "      <td>0</td>\n",
       "      <td>0</td>\n",
       "      <td>0</td>\n",
       "      <td>0</td>\n",
       "    </tr>\n",
       "    <tr>\n",
       "      <th>36</th>\n",
       "      <td>10</td>\n",
       "      <td>1</td>\n",
       "      <td>1</td>\n",
       "      <td>0</td>\n",
       "      <td>13</td>\n",
       "      <td>0</td>\n",
       "      <td>3</td>\n",
       "      <td>0</td>\n",
       "      <td>2</td>\n",
       "      <td>0</td>\n",
       "      <td>...</td>\n",
       "      <td>0</td>\n",
       "      <td>3</td>\n",
       "      <td>1</td>\n",
       "      <td>0</td>\n",
       "      <td>0</td>\n",
       "      <td>0</td>\n",
       "      <td>0</td>\n",
       "      <td>0</td>\n",
       "      <td>0</td>\n",
       "      <td>0</td>\n",
       "    </tr>\n",
       "    <tr>\n",
       "      <th>37</th>\n",
       "      <td>3</td>\n",
       "      <td>2</td>\n",
       "      <td>3</td>\n",
       "      <td>0</td>\n",
       "      <td>22</td>\n",
       "      <td>0</td>\n",
       "      <td>2</td>\n",
       "      <td>0</td>\n",
       "      <td>0</td>\n",
       "      <td>0</td>\n",
       "      <td>...</td>\n",
       "      <td>0</td>\n",
       "      <td>0</td>\n",
       "      <td>6</td>\n",
       "      <td>0</td>\n",
       "      <td>0</td>\n",
       "      <td>0</td>\n",
       "      <td>0</td>\n",
       "      <td>0</td>\n",
       "      <td>0</td>\n",
       "      <td>0</td>\n",
       "    </tr>\n",
       "    <tr>\n",
       "      <th>38</th>\n",
       "      <td>13</td>\n",
       "      <td>2</td>\n",
       "      <td>2</td>\n",
       "      <td>0</td>\n",
       "      <td>19</td>\n",
       "      <td>0</td>\n",
       "      <td>3</td>\n",
       "      <td>0</td>\n",
       "      <td>0</td>\n",
       "      <td>0</td>\n",
       "      <td>...</td>\n",
       "      <td>0</td>\n",
       "      <td>3</td>\n",
       "      <td>2</td>\n",
       "      <td>0</td>\n",
       "      <td>0</td>\n",
       "      <td>0</td>\n",
       "      <td>0</td>\n",
       "      <td>0</td>\n",
       "      <td>0</td>\n",
       "      <td>0</td>\n",
       "    </tr>\n",
       "    <tr>\n",
       "      <th>39</th>\n",
       "      <td>6</td>\n",
       "      <td>2</td>\n",
       "      <td>6</td>\n",
       "      <td>0</td>\n",
       "      <td>14</td>\n",
       "      <td>0</td>\n",
       "      <td>2</td>\n",
       "      <td>0</td>\n",
       "      <td>1</td>\n",
       "      <td>0</td>\n",
       "      <td>...</td>\n",
       "      <td>0</td>\n",
       "      <td>0</td>\n",
       "      <td>3</td>\n",
       "      <td>0</td>\n",
       "      <td>0</td>\n",
       "      <td>0</td>\n",
       "      <td>0</td>\n",
       "      <td>0</td>\n",
       "      <td>0</td>\n",
       "      <td>0</td>\n",
       "    </tr>\n",
       "    <tr>\n",
       "      <th>40</th>\n",
       "      <td>8</td>\n",
       "      <td>0</td>\n",
       "      <td>4</td>\n",
       "      <td>0</td>\n",
       "      <td>21</td>\n",
       "      <td>0</td>\n",
       "      <td>2</td>\n",
       "      <td>0</td>\n",
       "      <td>0</td>\n",
       "      <td>0</td>\n",
       "      <td>...</td>\n",
       "      <td>0</td>\n",
       "      <td>0</td>\n",
       "      <td>4</td>\n",
       "      <td>0</td>\n",
       "      <td>0</td>\n",
       "      <td>0</td>\n",
       "      <td>2</td>\n",
       "      <td>0</td>\n",
       "      <td>0</td>\n",
       "      <td>0</td>\n",
       "    </tr>\n",
       "    <tr>\n",
       "      <th>41</th>\n",
       "      <td>6</td>\n",
       "      <td>2</td>\n",
       "      <td>5</td>\n",
       "      <td>0</td>\n",
       "      <td>14</td>\n",
       "      <td>0</td>\n",
       "      <td>1</td>\n",
       "      <td>0</td>\n",
       "      <td>3</td>\n",
       "      <td>0</td>\n",
       "      <td>...</td>\n",
       "      <td>0</td>\n",
       "      <td>0</td>\n",
       "      <td>4</td>\n",
       "      <td>0</td>\n",
       "      <td>0</td>\n",
       "      <td>0</td>\n",
       "      <td>0</td>\n",
       "      <td>0</td>\n",
       "      <td>0</td>\n",
       "      <td>0</td>\n",
       "    </tr>\n",
       "    <tr>\n",
       "      <th>42</th>\n",
       "      <td>3</td>\n",
       "      <td>1</td>\n",
       "      <td>2</td>\n",
       "      <td>0</td>\n",
       "      <td>12</td>\n",
       "      <td>0</td>\n",
       "      <td>2</td>\n",
       "      <td>0</td>\n",
       "      <td>0</td>\n",
       "      <td>0</td>\n",
       "      <td>...</td>\n",
       "      <td>0</td>\n",
       "      <td>1</td>\n",
       "      <td>1</td>\n",
       "      <td>0</td>\n",
       "      <td>0</td>\n",
       "      <td>0</td>\n",
       "      <td>0</td>\n",
       "      <td>0</td>\n",
       "      <td>0</td>\n",
       "      <td>0</td>\n",
       "    </tr>\n",
       "    <tr>\n",
       "      <th>43</th>\n",
       "      <td>6</td>\n",
       "      <td>1</td>\n",
       "      <td>2</td>\n",
       "      <td>0</td>\n",
       "      <td>25</td>\n",
       "      <td>0</td>\n",
       "      <td>2</td>\n",
       "      <td>0</td>\n",
       "      <td>0</td>\n",
       "      <td>0</td>\n",
       "      <td>...</td>\n",
       "      <td>0</td>\n",
       "      <td>0</td>\n",
       "      <td>2</td>\n",
       "      <td>0</td>\n",
       "      <td>0</td>\n",
       "      <td>0</td>\n",
       "      <td>2</td>\n",
       "      <td>0</td>\n",
       "      <td>0</td>\n",
       "      <td>0</td>\n",
       "    </tr>\n",
       "    <tr>\n",
       "      <th>44</th>\n",
       "      <td>10</td>\n",
       "      <td>1</td>\n",
       "      <td>1</td>\n",
       "      <td>0</td>\n",
       "      <td>13</td>\n",
       "      <td>0</td>\n",
       "      <td>3</td>\n",
       "      <td>0</td>\n",
       "      <td>0</td>\n",
       "      <td>0</td>\n",
       "      <td>...</td>\n",
       "      <td>0</td>\n",
       "      <td>3</td>\n",
       "      <td>1</td>\n",
       "      <td>0</td>\n",
       "      <td>0</td>\n",
       "      <td>0</td>\n",
       "      <td>0</td>\n",
       "      <td>0</td>\n",
       "      <td>0</td>\n",
       "      <td>0</td>\n",
       "    </tr>\n",
       "    <tr>\n",
       "      <th>45</th>\n",
       "      <td>8</td>\n",
       "      <td>2</td>\n",
       "      <td>3</td>\n",
       "      <td>0</td>\n",
       "      <td>8</td>\n",
       "      <td>0</td>\n",
       "      <td>2</td>\n",
       "      <td>0</td>\n",
       "      <td>0</td>\n",
       "      <td>0</td>\n",
       "      <td>...</td>\n",
       "      <td>0</td>\n",
       "      <td>1</td>\n",
       "      <td>3</td>\n",
       "      <td>0</td>\n",
       "      <td>0</td>\n",
       "      <td>0</td>\n",
       "      <td>0</td>\n",
       "      <td>0</td>\n",
       "      <td>0</td>\n",
       "      <td>0</td>\n",
       "    </tr>\n",
       "    <tr>\n",
       "      <th>46</th>\n",
       "      <td>3</td>\n",
       "      <td>1</td>\n",
       "      <td>1</td>\n",
       "      <td>0</td>\n",
       "      <td>16</td>\n",
       "      <td>0</td>\n",
       "      <td>2</td>\n",
       "      <td>0</td>\n",
       "      <td>0</td>\n",
       "      <td>0</td>\n",
       "      <td>...</td>\n",
       "      <td>0</td>\n",
       "      <td>0</td>\n",
       "      <td>1</td>\n",
       "      <td>0</td>\n",
       "      <td>0</td>\n",
       "      <td>0</td>\n",
       "      <td>0</td>\n",
       "      <td>0</td>\n",
       "      <td>0</td>\n",
       "      <td>0</td>\n",
       "    </tr>\n",
       "  </tbody>\n",
       "</table>\n",
       "<p>47 rows × 2048 columns</p>\n",
       "</div>"
      ],
      "text/plain": [
       "    0     1     2     3     4     5     6     7     8     9     ...  2038  \\\n",
       "0      4     1     2     0    13     0     2     0     0     0  ...     0   \n",
       "1      3     0     3     0    14     1     0     0     0     0  ...     0   \n",
       "2     10     1     1     0    13     0     3     0     1     0  ...     0   \n",
       "3      6     0     3     0    21     0     2     0     1     0  ...     0   \n",
       "4      7     2     6     0    14     0     2     0     1     0  ...     0   \n",
       "5      7     2     6     0    14     0     2     0     1     0  ...     0   \n",
       "6      6     1     4     0    21     0     2     0     0     0  ...     0   \n",
       "7      7     2     5     0    14     0     2     0     0     0  ...     0   \n",
       "8      2     1     1     0    12     0     2     0     1     0  ...     0   \n",
       "9     11     1     1     0    13     0     3     0     0     0  ...     0   \n",
       "10     9     1     1     0     7     1     2     0     0     0  ...     0   \n",
       "11     8     3     5     0    14     0     2     0     0     0  ...     0   \n",
       "12    15     1     3     0    13     0     3     0     0     0  ...     0   \n",
       "13     9     0     2     0     9     1     1     0     0     0  ...     0   \n",
       "14     7     2     8     0    14     0     2     0     0     0  ...     0   \n",
       "15     4     1     2     0    12     0     2     0     3     0  ...     0   \n",
       "16     6     1     2     0    21     0     2     0     1     0  ...     0   \n",
       "17     6     2     8     0    14     0     2     0     0     0  ...     0   \n",
       "18     2     1     1     0    12     0     2     0     0     0  ...     0   \n",
       "19    10     0     0     2     0     0     0     0     0     0  ...     0   \n",
       "20     2     1     1     0    13     0     2     0     0     0  ...     0   \n",
       "21     6     2     6     0    14     0     2     0     1     0  ...     0   \n",
       "22     2     1     1     0    12     0     3     0     0     0  ...     0   \n",
       "23     9     2     7     0    14     0     2     0     0     0  ...     0   \n",
       "24     7     2     6     0    14     0     2     0     1     0  ...     0   \n",
       "25    12     2     2     0    19     0     3     0     0     0  ...     0   \n",
       "26    10     1     1     0    13     0     3     0     1     0  ...     0   \n",
       "27     7     2     6     0    14     0     2     0     1     0  ...     0   \n",
       "28     7     3     5     0    14     0     2     0     1     0  ...     0   \n",
       "29    10     2     2     0    13     0     3     0     0     0  ...     0   \n",
       "30     6     2     6     0    14     0     2     0     1     0  ...     0   \n",
       "31    10     1     1     0    13     0     3     0     1     0  ...     0   \n",
       "32     9     2     7     0    14     0     2     0     0     0  ...     0   \n",
       "33    10     1     1     0    17     0     3     0     0     0  ...     0   \n",
       "34     7     3     7     0    14     0     2     0     0     0  ...     0   \n",
       "35     8     3     6     0    14     0     2     0     0     0  ...     0   \n",
       "36    10     1     1     0    13     0     3     0     2     0  ...     0   \n",
       "37     3     2     3     0    22     0     2     0     0     0  ...     0   \n",
       "38    13     2     2     0    19     0     3     0     0     0  ...     0   \n",
       "39     6     2     6     0    14     0     2     0     1     0  ...     0   \n",
       "40     8     0     4     0    21     0     2     0     0     0  ...     0   \n",
       "41     6     2     5     0    14     0     1     0     3     0  ...     0   \n",
       "42     3     1     2     0    12     0     2     0     0     0  ...     0   \n",
       "43     6     1     2     0    25     0     2     0     0     0  ...     0   \n",
       "44    10     1     1     0    13     0     3     0     0     0  ...     0   \n",
       "45     8     2     3     0     8     0     2     0     0     0  ...     0   \n",
       "46     3     1     1     0    16     0     2     0     0     0  ...     0   \n",
       "\n",
       "    2039  2040  2041  2042  2043  2044  2045  2046  2047  \n",
       "0      1     3     0     0     0     0     0     0     0  \n",
       "1      0     1     0     0     0     0     0     0     0  \n",
       "2      3     1     0     0     0     0     0     0     0  \n",
       "3      0     3     0     0     0     2     0     0     0  \n",
       "4      0     4     0     0     0     0     0     0     0  \n",
       "5      0     4     0     0     0     0     0     0     0  \n",
       "6      0     2     0     0     0     2     0     0     0  \n",
       "7      0     3     0     0     0     0     0     0     0  \n",
       "8      1     1     0     0     0     0     0     0     0  \n",
       "9      3     1     0     0     0     0     0     0     0  \n",
       "10     2     1     0     0     0     0     0     0     0  \n",
       "11     0     3     0     0     0     0     0     0     0  \n",
       "12     3     2     0     0     0     0     0     0     0  \n",
       "13     0     1     0     0     0     2     0     0     0  \n",
       "14     0     4     0     0     0     0     0     0     0  \n",
       "15     1     1     0     0     0     0     0     0     0  \n",
       "16     0     2     0     0     0     2     0     0     0  \n",
       "17     0     3     0     0     0     0     0     0     0  \n",
       "18     1     1     0     0     0     0     0     0     0  \n",
       "19     0     0     2     0     0     0     0     0     0  \n",
       "20     1     1     0     0     0     0     0     0     0  \n",
       "21     0     3     0     0     0     0     0     0     0  \n",
       "22     2     1     0     0     0     0     0     0     0  \n",
       "23     0     5     0     0     0     0     0     0     0  \n",
       "24     0     4     0     0     0     0     0     0     0  \n",
       "25     3     2     0     0     0     0     0     0     0  \n",
       "26     3     1     0     0     0     0     0     0     0  \n",
       "27     0     4     0     0     0     0     0     0     0  \n",
       "28     0     3     0     0     0     0     0     0     0  \n",
       "29     3     1     0     0     0     0     0     0     0  \n",
       "30     0     3     0     0     0     0     0     0     0  \n",
       "31     3     1     0     0     0     0     0     0     0  \n",
       "32     0     5     0     0     0     0     0     0     0  \n",
       "33     3     1     0     0     0     0     0     0     0  \n",
       "34     0     3     0     0     0     0     0     0     0  \n",
       "35     0     5     0     0     0     0     0     0     0  \n",
       "36     3     1     0     0     0     0     0     0     0  \n",
       "37     0     6     0     0     0     0     0     0     0  \n",
       "38     3     2     0     0     0     0     0     0     0  \n",
       "39     0     3     0     0     0     0     0     0     0  \n",
       "40     0     4     0     0     0     2     0     0     0  \n",
       "41     0     4     0     0     0     0     0     0     0  \n",
       "42     1     1     0     0     0     0     0     0     0  \n",
       "43     0     2     0     0     0     2     0     0     0  \n",
       "44     3     1     0     0     0     0     0     0     0  \n",
       "45     1     3     0     0     0     0     0     0     0  \n",
       "46     0     1     0     0     0     0     0     0     0  \n",
       "\n",
       "[47 rows x 2048 columns]"
      ]
     },
     "execution_count": 242,
     "metadata": {},
     "output_type": "execute_result"
    }
   ],
   "source": [
    "g"
   ]
  },
  {
   "cell_type": "markdown",
   "id": "78254c42-6731-418c-a884-53b34308d9a5",
   "metadata": {
    "id": "78254c42-6731-418c-a884-53b34308d9a5"
   },
   "source": [
    "## Dimensionality Reduction with PCA"
   ]
  },
  {
   "cell_type": "code",
   "execution_count": 16,
   "id": "03922b4c-abf3-4066-b555-a70e822170e4",
   "metadata": {
    "colab": {
     "base_uri": "https://localhost:8080/"
    },
    "executionInfo": {
     "elapsed": 5021,
     "status": "ok",
     "timestamp": 1712865280914,
     "user": {
      "displayName": "ANKIT SINGH dharmvir singh",
      "userId": "08327006042311051948"
     },
     "user_tz": -330
    },
    "id": "03922b4c-abf3-4066-b555-a70e822170e4",
    "outputId": "878e1010-d597-4ad5-81ee-4e5adb0f62cf"
   },
   "outputs": [
    {
     "name": "stdout",
     "output_type": "stream",
     "text": [
      "Defaulting to user installation because normal site-packages is not writeable\n",
      "Requirement already satisfied: tqdm in c:\\programdata\\anaconda3\\lib\\site-packages (4.65.0)\n",
      "Requirement already satisfied: colorama in c:\\programdata\\anaconda3\\lib\\site-packages (from tqdm) (0.4.6)\n"
     ]
    }
   ],
   "source": [
    "! pip install tqdm"
   ]
  },
  {
   "cell_type": "code",
   "execution_count": 12,
   "id": "cadc98e1-0484-4c27-8286-90a93598ce73",
   "metadata": {
    "executionInfo": {
     "elapsed": 3,
     "status": "ok",
     "timestamp": 1712865282912,
     "user": {
      "displayName": "ANKIT SINGH dharmvir singh",
      "userId": "08327006042311051948"
     },
     "user_tz": -330
    },
    "id": "cadc98e1-0484-4c27-8286-90a93598ce73"
   },
   "outputs": [],
   "source": [
    "from sklearn.decomposition import PCA\n",
    "from tqdm import tqdm\n",
    "from sklearn.preprocessing import StandardScaler"
   ]
  },
  {
   "cell_type": "code",
   "execution_count": 13,
   "id": "2aeeb1b0-0366-4e0f-995c-c655989f0fb3",
   "metadata": {
    "executionInfo": {
     "elapsed": 641,
     "status": "ok",
     "timestamp": 1712865286060,
     "user": {
      "displayName": "ANKIT SINGH dharmvir singh",
      "userId": "08327006042311051948"
     },
     "user_tz": -330
    },
    "id": "2aeeb1b0-0366-4e0f-995c-c655989f0fb3"
   },
   "outputs": [],
   "source": [
    "# apply scaling to train and test data\n",
    "sc = StandardScaler()\n",
    "X_train = sc.fit_transform(X_train_arr)\n",
    "X_test = sc.transform(X_test_arr)"
   ]
  },
  {
   "cell_type": "code",
   "execution_count": 246,
   "id": "91d345dd-2fd1-4a8f-bdff-9b079c5ac521",
   "metadata": {},
   "outputs": [],
   "source": [
    "import pickle\n",
    "\n",
    "with open('scaler.pkl', 'wb') as file:\n",
    "    pickle.dump(sc, file)"
   ]
  },
  {
   "cell_type": "code",
   "execution_count": 248,
   "id": "a552679a-db42-4db9-b463-e60a39128d6e",
   "metadata": {
    "executionInfo": {
     "elapsed": 4,
     "status": "ok",
     "timestamp": 1712865663892,
     "user": {
      "displayName": "ANKIT SINGH dharmvir singh",
      "userId": "08327006042311051948"
     },
     "user_tz": -330
    },
    "id": "a552679a-db42-4db9-b463-e60a39128d6e"
   },
   "outputs": [],
   "source": [
    "# calculates the amount of variation explained by a each number of components\n",
    "def get_component_performance(fps_arr):\n",
    "    result = []\n",
    "    for n in tqdm(range(2,48)):\n",
    "        pca = PCA(n_components = n)\n",
    "        cmpts = pca.fit_transform(fps_arr)\n",
    "        variance = np.sum(pca.explained_variance_ratio_)\n",
    "        result.append([n, variance])\n",
    "    return result"
   ]
  },
  {
   "cell_type": "markdown",
   "id": "9YreSViQzQdc",
   "metadata": {
    "id": "9YreSViQzQdc"
   },
   "source": [
    "for parallel computation, will use all the available resources except for gpu"
   ]
  },
  {
   "cell_type": "code",
   "execution_count": 249,
   "id": "qpQW-CAWv0GQ",
   "metadata": {
    "executionInfo": {
     "elapsed": 546,
     "status": "ok",
     "timestamp": 1712867043309,
     "user": {
      "displayName": "ANKIT SINGH dharmvir singh",
      "userId": "08327006042311051948"
     },
     "user_tz": -330
    },
    "id": "qpQW-CAWv0GQ"
   },
   "outputs": [],
   "source": [
    "# from joblib import Parallel, delayed\n",
    "\n",
    "# def compute_variance(n, fps_arr):\n",
    "#     pca = PCA(n_components=n)\n",
    "#     cmpts = pca.fit_transform(fps_arr)\n",
    "#     variance = np.sum(pca.explained_variance_ratio_)\n",
    "#     return [n, variance]\n",
    "\n",
    "# def get_component_performance(fps_arr):\n",
    "#     result = Parallel(n_jobs=-1)(delayed(compute_variance)(n, fps_arr) for n in tqdm(range(2, 2000)))\n",
    "#     return result"
   ]
  },
  {
   "cell_type": "markdown",
   "id": "rN-nbntGzX9W",
   "metadata": {
    "id": "rN-nbntGzX9W"
   },
   "source": [
    "this will exploit all the resources, it will use all the cores, cpus, and gpus. It may heat up the system."
   ]
  },
  {
   "cell_type": "code",
   "execution_count": 251,
   "id": "e9ywMRGzwxH1",
   "metadata": {
    "executionInfo": {
     "elapsed": 5,
     "status": "ok",
     "timestamp": 1712866990683,
     "user": {
      "displayName": "ANKIT SINGH dharmvir singh",
      "userId": "08327006042311051948"
     },
     "user_tz": -330
    },
    "id": "e9ywMRGzwxH1"
   },
   "outputs": [],
   "source": [
    "# import cudf\n",
    "# from cuml import PCA\n",
    "\n",
    "# def get_component_performance(fps_arr):\n",
    "#     result = []\n",
    "#     for n in tqdm(range(2, 802)):\n",
    "#         pca = PCA(n_components=n)\n",
    "#         cmpts = pca.fit_transform(cudf.DataFrame(fps_arr))\n",
    "#         variance = pca.explained_variance_ratio_.sum()\n",
    "#         result.append([n, variance])\n",
    "#     return result"
   ]
  },
  {
   "cell_type": "code",
   "execution_count": 252,
   "id": "067e1243-6506-4cb8-aa05-81192cab35d8",
   "metadata": {
    "id": "067e1243-6506-4cb8-aa05-81192cab35d8"
   },
   "outputs": [
    {
     "name": "stderr",
     "output_type": "stream",
     "text": [
      "100%|█████████████████████████████████████████████████████████████████████████████████| 46/46 [00:00<00:00, 254.27it/s]\n"
     ]
    }
   ],
   "source": [
    "results = get_component_performance(X_train)"
   ]
  },
  {
   "cell_type": "code",
   "execution_count": 253,
   "id": "094bc5f3-e989-408d-b9ad-2f6db7165263",
   "metadata": {
    "executionInfo": {
     "elapsed": 13,
     "status": "aborted",
     "timestamp": 1712865520313,
     "user": {
      "displayName": "ANKIT SINGH dharmvir singh",
      "userId": "08327006042311051948"
     },
     "user_tz": -330
    },
    "id": "094bc5f3-e989-408d-b9ad-2f6db7165263"
   },
   "outputs": [],
   "source": [
    "results_df = pd.DataFrame(results, columns = ['Components','Variance'])"
   ]
  },
  {
   "cell_type": "code",
   "execution_count": 254,
   "id": "ac75d44e-ffaf-4918-ba3c-9bfa6754a034",
   "metadata": {
    "executionInfo": {
     "elapsed": 14,
     "status": "aborted",
     "timestamp": 1712865520314,
     "user": {
      "displayName": "ANKIT SINGH dharmvir singh",
      "userId": "08327006042311051948"
     },
     "user_tz": -330
    },
    "id": "ac75d44e-ffaf-4918-ba3c-9bfa6754a034",
    "scrolled": true
   },
   "outputs": [
    {
     "data": {
      "text/html": [
       "<div>\n",
       "<style scoped>\n",
       "    .dataframe tbody tr th:only-of-type {\n",
       "        vertical-align: middle;\n",
       "    }\n",
       "\n",
       "    .dataframe tbody tr th {\n",
       "        vertical-align: top;\n",
       "    }\n",
       "\n",
       "    .dataframe thead th {\n",
       "        text-align: right;\n",
       "    }\n",
       "</style>\n",
       "<table border=\"1\" class=\"dataframe\">\n",
       "  <thead>\n",
       "    <tr style=\"text-align: right;\">\n",
       "      <th></th>\n",
       "      <th>Components</th>\n",
       "      <th>Variance</th>\n",
       "    </tr>\n",
       "  </thead>\n",
       "  <tbody>\n",
       "    <tr>\n",
       "      <th>0</th>\n",
       "      <td>2</td>\n",
       "      <td>0.252991</td>\n",
       "    </tr>\n",
       "    <tr>\n",
       "      <th>1</th>\n",
       "      <td>3</td>\n",
       "      <td>0.334864</td>\n",
       "    </tr>\n",
       "    <tr>\n",
       "      <th>2</th>\n",
       "      <td>4</td>\n",
       "      <td>0.413744</td>\n",
       "    </tr>\n",
       "    <tr>\n",
       "      <th>3</th>\n",
       "      <td>5</td>\n",
       "      <td>0.486857</td>\n",
       "    </tr>\n",
       "    <tr>\n",
       "      <th>4</th>\n",
       "      <td>6</td>\n",
       "      <td>0.541989</td>\n",
       "    </tr>\n",
       "    <tr>\n",
       "      <th>5</th>\n",
       "      <td>7</td>\n",
       "      <td>0.594526</td>\n",
       "    </tr>\n",
       "    <tr>\n",
       "      <th>6</th>\n",
       "      <td>8</td>\n",
       "      <td>0.641774</td>\n",
       "    </tr>\n",
       "    <tr>\n",
       "      <th>7</th>\n",
       "      <td>9</td>\n",
       "      <td>0.688037</td>\n",
       "    </tr>\n",
       "    <tr>\n",
       "      <th>8</th>\n",
       "      <td>10</td>\n",
       "      <td>0.721422</td>\n",
       "    </tr>\n",
       "    <tr>\n",
       "      <th>9</th>\n",
       "      <td>11</td>\n",
       "      <td>0.750221</td>\n",
       "    </tr>\n",
       "    <tr>\n",
       "      <th>10</th>\n",
       "      <td>12</td>\n",
       "      <td>0.777702</td>\n",
       "    </tr>\n",
       "    <tr>\n",
       "      <th>11</th>\n",
       "      <td>13</td>\n",
       "      <td>0.801972</td>\n",
       "    </tr>\n",
       "    <tr>\n",
       "      <th>12</th>\n",
       "      <td>14</td>\n",
       "      <td>0.824877</td>\n",
       "    </tr>\n",
       "    <tr>\n",
       "      <th>13</th>\n",
       "      <td>15</td>\n",
       "      <td>0.846369</td>\n",
       "    </tr>\n",
       "    <tr>\n",
       "      <th>14</th>\n",
       "      <td>16</td>\n",
       "      <td>0.866993</td>\n",
       "    </tr>\n",
       "    <tr>\n",
       "      <th>15</th>\n",
       "      <td>17</td>\n",
       "      <td>0.884145</td>\n",
       "    </tr>\n",
       "    <tr>\n",
       "      <th>16</th>\n",
       "      <td>18</td>\n",
       "      <td>0.900558</td>\n",
       "    </tr>\n",
       "    <tr>\n",
       "      <th>17</th>\n",
       "      <td>19</td>\n",
       "      <td>0.915208</td>\n",
       "    </tr>\n",
       "    <tr>\n",
       "      <th>18</th>\n",
       "      <td>20</td>\n",
       "      <td>0.928433</td>\n",
       "    </tr>\n",
       "    <tr>\n",
       "      <th>19</th>\n",
       "      <td>21</td>\n",
       "      <td>0.940792</td>\n",
       "    </tr>\n",
       "    <tr>\n",
       "      <th>20</th>\n",
       "      <td>22</td>\n",
       "      <td>0.951249</td>\n",
       "    </tr>\n",
       "    <tr>\n",
       "      <th>21</th>\n",
       "      <td>23</td>\n",
       "      <td>0.960408</td>\n",
       "    </tr>\n",
       "    <tr>\n",
       "      <th>22</th>\n",
       "      <td>24</td>\n",
       "      <td>0.968252</td>\n",
       "    </tr>\n",
       "    <tr>\n",
       "      <th>23</th>\n",
       "      <td>25</td>\n",
       "      <td>0.975520</td>\n",
       "    </tr>\n",
       "    <tr>\n",
       "      <th>24</th>\n",
       "      <td>26</td>\n",
       "      <td>0.982269</td>\n",
       "    </tr>\n",
       "    <tr>\n",
       "      <th>25</th>\n",
       "      <td>27</td>\n",
       "      <td>0.987556</td>\n",
       "    </tr>\n",
       "    <tr>\n",
       "      <th>26</th>\n",
       "      <td>28</td>\n",
       "      <td>0.991490</td>\n",
       "    </tr>\n",
       "    <tr>\n",
       "      <th>27</th>\n",
       "      <td>29</td>\n",
       "      <td>0.994741</td>\n",
       "    </tr>\n",
       "    <tr>\n",
       "      <th>28</th>\n",
       "      <td>30</td>\n",
       "      <td>0.997527</td>\n",
       "    </tr>\n",
       "    <tr>\n",
       "      <th>29</th>\n",
       "      <td>31</td>\n",
       "      <td>0.999254</td>\n",
       "    </tr>\n",
       "    <tr>\n",
       "      <th>30</th>\n",
       "      <td>32</td>\n",
       "      <td>0.999989</td>\n",
       "    </tr>\n",
       "    <tr>\n",
       "      <th>31</th>\n",
       "      <td>33</td>\n",
       "      <td>1.000000</td>\n",
       "    </tr>\n",
       "    <tr>\n",
       "      <th>32</th>\n",
       "      <td>34</td>\n",
       "      <td>1.000000</td>\n",
       "    </tr>\n",
       "    <tr>\n",
       "      <th>33</th>\n",
       "      <td>35</td>\n",
       "      <td>1.000000</td>\n",
       "    </tr>\n",
       "    <tr>\n",
       "      <th>34</th>\n",
       "      <td>36</td>\n",
       "      <td>1.000000</td>\n",
       "    </tr>\n",
       "    <tr>\n",
       "      <th>35</th>\n",
       "      <td>37</td>\n",
       "      <td>1.000000</td>\n",
       "    </tr>\n",
       "    <tr>\n",
       "      <th>36</th>\n",
       "      <td>38</td>\n",
       "      <td>1.000000</td>\n",
       "    </tr>\n",
       "    <tr>\n",
       "      <th>37</th>\n",
       "      <td>39</td>\n",
       "      <td>1.000000</td>\n",
       "    </tr>\n",
       "    <tr>\n",
       "      <th>38</th>\n",
       "      <td>40</td>\n",
       "      <td>1.000000</td>\n",
       "    </tr>\n",
       "    <tr>\n",
       "      <th>39</th>\n",
       "      <td>41</td>\n",
       "      <td>1.000000</td>\n",
       "    </tr>\n",
       "    <tr>\n",
       "      <th>40</th>\n",
       "      <td>42</td>\n",
       "      <td>1.000000</td>\n",
       "    </tr>\n",
       "    <tr>\n",
       "      <th>41</th>\n",
       "      <td>43</td>\n",
       "      <td>1.000000</td>\n",
       "    </tr>\n",
       "    <tr>\n",
       "      <th>42</th>\n",
       "      <td>44</td>\n",
       "      <td>1.000000</td>\n",
       "    </tr>\n",
       "    <tr>\n",
       "      <th>43</th>\n",
       "      <td>45</td>\n",
       "      <td>1.000000</td>\n",
       "    </tr>\n",
       "    <tr>\n",
       "      <th>44</th>\n",
       "      <td>46</td>\n",
       "      <td>1.000000</td>\n",
       "    </tr>\n",
       "    <tr>\n",
       "      <th>45</th>\n",
       "      <td>47</td>\n",
       "      <td>1.000000</td>\n",
       "    </tr>\n",
       "  </tbody>\n",
       "</table>\n",
       "</div>"
      ],
      "text/plain": [
       "    Components  Variance\n",
       "0            2  0.252991\n",
       "1            3  0.334864\n",
       "2            4  0.413744\n",
       "3            5  0.486857\n",
       "4            6  0.541989\n",
       "5            7  0.594526\n",
       "6            8  0.641774\n",
       "7            9  0.688037\n",
       "8           10  0.721422\n",
       "9           11  0.750221\n",
       "10          12  0.777702\n",
       "11          13  0.801972\n",
       "12          14  0.824877\n",
       "13          15  0.846369\n",
       "14          16  0.866993\n",
       "15          17  0.884145\n",
       "16          18  0.900558\n",
       "17          19  0.915208\n",
       "18          20  0.928433\n",
       "19          21  0.940792\n",
       "20          22  0.951249\n",
       "21          23  0.960408\n",
       "22          24  0.968252\n",
       "23          25  0.975520\n",
       "24          26  0.982269\n",
       "25          27  0.987556\n",
       "26          28  0.991490\n",
       "27          29  0.994741\n",
       "28          30  0.997527\n",
       "29          31  0.999254\n",
       "30          32  0.999989\n",
       "31          33  1.000000\n",
       "32          34  1.000000\n",
       "33          35  1.000000\n",
       "34          36  1.000000\n",
       "35          37  1.000000\n",
       "36          38  1.000000\n",
       "37          39  1.000000\n",
       "38          40  1.000000\n",
       "39          41  1.000000\n",
       "40          42  1.000000\n",
       "41          43  1.000000\n",
       "42          44  1.000000\n",
       "43          45  1.000000\n",
       "44          46  1.000000\n",
       "45          47  1.000000"
      ]
     },
     "execution_count": 254,
     "metadata": {},
     "output_type": "execute_result"
    }
   ],
   "source": [
    "results_df"
   ]
  },
  {
   "cell_type": "code",
   "execution_count": 255,
   "id": "d072b989-a554-4474-8057-4abbe74ad87d",
   "metadata": {
    "executionInfo": {
     "elapsed": 14,
     "status": "aborted",
     "timestamp": 1712865520315,
     "user": {
      "displayName": "ANKIT SINGH dharmvir singh",
      "userId": "08327006042311051948"
     },
     "user_tz": -330
    },
    "id": "d072b989-a554-4474-8057-4abbe74ad87d"
   },
   "outputs": [
    {
     "name": "stderr",
     "output_type": "stream",
     "text": [
      "C:\\ProgramData\\anaconda3\\Lib\\site-packages\\seaborn\\_oldcore.py:1119: FutureWarning: use_inf_as_na option is deprecated and will be removed in a future version. Convert inf values to NaN before operating instead.\n",
      "  with pd.option_context('mode.use_inf_as_na', True):\n",
      "C:\\ProgramData\\anaconda3\\Lib\\site-packages\\seaborn\\_oldcore.py:1119: FutureWarning: use_inf_as_na option is deprecated and will be removed in a future version. Convert inf values to NaN before operating instead.\n",
      "  with pd.option_context('mode.use_inf_as_na', True):\n"
     ]
    },
    {
     "data": {
      "image/png": "[encoded data removed]",
      "text/plain": [
       "<Figure size 640x480 with 1 Axes>"
      ]
     },
     "metadata": {},
     "output_type": "display_data"
    }
   ],
   "source": [
    "ax = sns.lineplot(data = results_df, x = 'Components', y = 'Variance')"
   ]
  },
  {
   "cell_type": "code",
   "execution_count": 14,
   "id": "c6bdadd2-5149-4459-988c-08b0d388036a",
   "metadata": {
    "executionInfo": {
     "elapsed": 9564,
     "status": "ok",
     "timestamp": 1712873801447,
     "user": {
      "displayName": "ANKIT SINGH dharmvir singh",
      "userId": "08327006042311051948"
     },
     "user_tz": -330
    },
    "id": "c6bdadd2-5149-4459-988c-08b0d388036a"
   },
   "outputs": [],
   "source": [
    "# fit the PCA using train data\n",
    "pca = PCA(n_components = 25)\n",
    "train_cmpts = pca.fit_transform(X_train)"
   ]
  },
  {
   "cell_type": "code",
   "execution_count": 15,
   "id": "0418a240-d8b9-45b3-b381-7b2192f72237",
   "metadata": {},
   "outputs": [],
   "source": [
    "import pickle\n",
    "\n",
    "with open('pca.pkl', 'wb') as file:\n",
    "    pickle.dump(pca, file)"
   ]
  },
  {
   "cell_type": "code",
   "execution_count": 16,
   "id": "5CRz85if3FxA",
   "metadata": {
    "colab": {
     "base_uri": "https://localhost:8080/"
    },
    "executionInfo": {
     "elapsed": 790,
     "status": "ok",
     "timestamp": 1712873839276,
     "user": {
      "displayName": "ANKIT SINGH dharmvir singh",
      "userId": "08327006042311051948"
     },
     "user_tz": -330
    },
    "id": "5CRz85if3FxA",
    "outputId": "0fab19ce-216c-43db-8131-5bec7cb937ee",
    "scrolled": true
   },
   "outputs": [
    {
     "data": {
      "text/plain": [
       "(47, 25)"
      ]
     },
     "execution_count": 16,
     "metadata": {},
     "output_type": "execute_result"
    }
   ],
   "source": [
    "train_cmpts.shape"
   ]
  },
  {
   "cell_type": "code",
   "execution_count": 17,
   "id": "65d848ec-7dfd-4867-b2c8-bea84168349a",
   "metadata": {
    "executionInfo": {
     "elapsed": 692,
     "status": "ok",
     "timestamp": 1712873839964,
     "user": {
      "displayName": "ANKIT SINGH dharmvir singh",
      "userId": "08327006042311051948"
     },
     "user_tz": -330
    },
    "id": "65d848ec-7dfd-4867-b2c8-bea84168349a"
   },
   "outputs": [],
   "source": [
    "# transform the test data\n",
    "test_cmpts = pca.transform(X_test)"
   ]
  },
  {
   "cell_type": "code",
   "execution_count": 18,
   "id": "349302f1-b2cd-46c5-ba20-b89d5aeec690",
   "metadata": {
    "colab": {
     "base_uri": "https://localhost:8080/"
    },
    "executionInfo": {
     "elapsed": 44,
     "status": "ok",
     "timestamp": 1712873839964,
     "user": {
      "displayName": "ANKIT SINGH dharmvir singh",
      "userId": "08327006042311051948"
     },
     "user_tz": -330
    },
    "id": "349302f1-b2cd-46c5-ba20-b89d5aeec690",
    "outputId": "10f4eb9e-9ddf-4466-b09b-fc02b6f25062"
   },
   "outputs": [
    {
     "name": "stdout",
     "output_type": "stream",
     "text": [
      "(47, 25)\n",
      "(12, 25)\n"
     ]
    }
   ],
   "source": [
    "print(train_cmpts.shape)\n",
    "print(test_cmpts.shape)"
   ]
  },
  {
   "cell_type": "markdown",
   "id": "00df6898-8334-456c-bcef-88a996823299",
   "metadata": {
    "id": "00df6898-8334-456c-bcef-88a996823299"
   },
   "source": [
    "# Model building"
   ]
  },
  {
   "cell_type": "code",
   "execution_count": 261,
   "id": "8c2bdf26-028e-4776-a9a5-154d36410999",
   "metadata": {
    "scrolled": true
   },
   "outputs": [
    {
     "name": "stdout",
     "output_type": "stream",
     "text": [
      "Defaulting to user installation because normal site-packages is not writeable\n",
      "Requirement already satisfied: xgboost in c:\\users\\acer\\appdata\\roaming\\python\\python311\\site-packages (2.0.3)\n",
      "Requirement already satisfied: numpy in c:\\programdata\\anaconda3\\lib\\site-packages (from xgboost) (1.26.4)\n",
      "Requirement already satisfied: scipy in c:\\programdata\\anaconda3\\lib\\site-packages (from xgboost) (1.11.4)\n"
     ]
    }
   ],
   "source": [
    "! pip install xgboost"
   ]
  },
  {
   "cell_type": "code",
   "execution_count": 262,
   "id": "fbf0721e-5607-4e5e-b90a-ff8cafcd8fcc",
   "metadata": {},
   "outputs": [
    {
     "name": "stdout",
     "output_type": "stream",
     "text": [
      "Defaulting to user installation because normal site-packages is not writeable\n",
      "Requirement already satisfied: scikit-learn in c:\\programdata\\anaconda3\\lib\\site-packages (1.2.2)\n",
      "Requirement already satisfied: numpy>=1.17.3 in c:\\programdata\\anaconda3\\lib\\site-packages (from scikit-learn) (1.26.4)\n",
      "Requirement already satisfied: scipy>=1.3.2 in c:\\programdata\\anaconda3\\lib\\site-packages (from scikit-learn) (1.11.4)\n",
      "Requirement already satisfied: joblib>=1.1.1 in c:\\programdata\\anaconda3\\lib\\site-packages (from scikit-learn) (1.2.0)\n",
      "Requirement already satisfied: threadpoolctl>=2.0.0 in c:\\programdata\\anaconda3\\lib\\site-packages (from scikit-learn) (2.2.0)\n"
     ]
    }
   ],
   "source": [
    "!pip install scikit-learn"
   ]
  },
  {
   "cell_type": "code",
   "execution_count": 263,
   "id": "c1963176-c57e-4eaa-9c90-d402b6cef526",
   "metadata": {
    "executionInfo": {
     "elapsed": 36,
     "status": "ok",
     "timestamp": 1712873839965,
     "user": {
      "displayName": "ANKIT SINGH dharmvir singh",
      "userId": "08327006042311051948"
     },
     "user_tz": -330
    },
    "id": "c1963176-c57e-4eaa-9c90-d402b6cef526"
   },
   "outputs": [],
   "source": [
    "# Importing useful libraries\n",
    "from sklearn.ensemble import RandomForestClassifier, ExtraTreesClassifier\n",
    "from sklearn.tree import DecisionTreeClassifier\n",
    "from sklearn.model_selection import GridSearchCV\n",
    "from sklearn.metrics  import roc_auc_score,accuracy_score\n",
    "from sklearn.neighbors import KNeighborsClassifier\n",
    "from xgboost import XGBClassifier\n",
    "from sklearn.svm import SVC\n",
    "import xgboost as xgb"
   ]
  },
  {
   "cell_type": "markdown",
   "id": "783b88ae-23f3-4a33-8bf2-bc005eef934b",
   "metadata": {},
   "source": [
    "# <font color = red>**XGBoost Classifier**</font>"
   ]
  },
  {
   "cell_type": "code",
   "execution_count": 188,
   "id": "38b6015f-acaa-4ab0-a532-d5ce8fa8994e",
   "metadata": {
    "executionInfo": {
     "elapsed": 35,
     "status": "ok",
     "timestamp": 1712873839971,
     "user": {
      "displayName": "ANKIT SINGH dharmvir singh",
      "userId": "08327006042311051948"
     },
     "user_tz": -330
    },
    "id": "38b6015f-acaa-4ab0-a532-d5ce8fa8994e"
   },
   "outputs": [],
   "source": [
    "def xgboost(train_x,train_y):\n",
    "\n",
    "     xgb = XGBClassifier()\n",
    "\n",
    "     # initializing with different combination of parameters\n",
    "     param_grid_xgboost = {'tree_method': ['auto'],\n",
    "                  \"n_estimators\": [10, 100, 120],\n",
    "                  'booster' : ['dart', 'gbtree'],\n",
    "#                   \"criterion\": ['gini', 'entropy'],\n",
    "                  \"max_depth\": [2,3],\n",
    "#                   \"max_features\": ['auto', 'log2'],\n",
    "                  'objective': ['binary:logistic'],\n",
    "#                   'lambda' : range(1e-4,10),\n",
    "                  'alpha' : (1e-4,1),\n",
    "                  'colsample_bytree' : (.1, .5),\n",
    "                  'subsample' : (.1, 1)\n",
    "\n",
    "\n",
    "\n",
    "             }\n",
    "\n",
    "     # object for Grid Search cv\n",
    "     grid= GridSearchCV(xgb, param_grid_xgboost, n_jobs= -1, verbose=3, cv=5,)\n",
    "\n",
    "     # finding the best parameters\n",
    "     grid.fit(train_x, train_y)\n",
    "\n",
    "     # getting best parameters\n",
    "     booster = grid.best_params_['booster']\n",
    "     tree_method = grid.best_params_['tree_method']\n",
    "     n_estimators = grid.best_params_['n_estimators']\n",
    "#      criterion = grid.best_params_['criterion']\n",
    "     max_depth = grid.best_params_['max_depth']\n",
    "#      max_features = grid.best_params_['max_features']\n",
    "     objective = grid.best_params_['objective']\n",
    "#      lambda = grid.best_params_['lambda']\n",
    "     alpha = grid.best_params_['alpha']\n",
    "     colsample_bytree = grid.best_params_['colsample_bytree']\n",
    "     subsample = grid.best_params_['colsample_bytree']\n",
    "\n",
    "\n",
    "     # creating a new model with the best parameters\n",
    "     xgb = XGBClassifier(booster=booster, tree_method=tree_method, n_estimators=n_estimators,\n",
    "                                max_depth=max_depth, objective=objective, alpha=alpha,\n",
    "                                colsample_bytree=colsample_bytree, subsample=subsample)\n",
    "\n",
    "     # training the mew model\n",
    "     xgb.fit(train_x, train_y)\n",
    "     print('Best parameters for XGBoost: {}'.format (grid.best_params_))\n",
    "\n",
    "\n",
    "     return xgb"
   ]
  },
  {
   "cell_type": "code",
   "execution_count": 189,
   "id": "f5b262da-fcd9-4560-a9c1-427397f05799",
   "metadata": {
    "executionInfo": {
     "elapsed": 34,
     "status": "ok",
     "timestamp": 1712873839971,
     "user": {
      "displayName": "ANKIT SINGH dharmvir singh",
      "userId": "08327006042311051948"
     },
     "user_tz": -330
    },
    "id": "f5b262da-fcd9-4560-a9c1-427397f05799"
   },
   "outputs": [
    {
     "name": "stdout",
     "output_type": "stream",
     "text": [
      "Fitting 5 folds for each of 96 candidates, totalling 480 fits\n",
      "Best parameters for XGBoost: {'alpha': 0.0001, 'booster': 'dart', 'colsample_bytree': 0.5, 'max_depth': 2, 'n_estimators': 100, 'objective': 'binary:logistic', 'subsample': 1, 'tree_method': 'auto'}\n"
     ]
    }
   ],
   "source": [
    "xgb_classifier = xgboost(train_cmpts, y_train)"
   ]
  },
  {
   "cell_type": "code",
   "execution_count": 192,
   "id": "rr6mpC5Q_hI8",
   "metadata": {
    "id": "rr6mpC5Q_hI8"
   },
   "outputs": [
    {
     "data": {
      "text/html": [
       "<style>#sk-container-id-4 {color: black;background-color: white;}#sk-container-id-4 pre{padding: 0;}#sk-container-id-4 div.sk-toggleable {background-color: white;}#sk-container-id-4 label.sk-toggleable__label {cursor: pointer;display: block;width: 100%;margin-bottom: 0;padding: 0.3em;box-sizing: border-box;text-align: center;}#sk-container-id-4 label.sk-toggleable__label-arrow:before {content: \"▸\";float: left;margin-right: 0.25em;color: #696969;}#sk-container-id-4 label.sk-toggleable__label-arrow:hover:before {color: black;}#sk-container-id-4 div.sk-estimator:hover label.sk-toggleable__label-arrow:before {color: black;}#sk-container-id-4 div.sk-toggleable__content {max-height: 0;max-width: 0;overflow: hidden;text-align: left;background-color: #f0f8ff;}#sk-container-id-4 div.sk-toggleable__content pre {margin: 0.2em;color: black;border-radius: 0.25em;background-color: #f0f8ff;}#sk-container-id-4 input.sk-toggleable__control:checked~div.sk-toggleable__content {max-height: 200px;max-width: 100%;overflow: auto;}#sk-container-id-4 input.sk-toggleable__control:checked~label.sk-toggleable__label-arrow:before {content: \"▾\";}#sk-container-id-4 div.sk-estimator input.sk-toggleable__control:checked~label.sk-toggleable__label {background-color: #d4ebff;}#sk-container-id-4 div.sk-label input.sk-toggleable__control:checked~label.sk-toggleable__label {background-color: #d4ebff;}#sk-container-id-4 input.sk-hidden--visually {border: 0;clip: rect(1px 1px 1px 1px);clip: rect(1px, 1px, 1px, 1px);height: 1px;margin: -1px;overflow: hidden;padding: 0;position: absolute;width: 1px;}#sk-container-id-4 div.sk-estimator {font-family: monospace;background-color: #f0f8ff;border: 1px dotted black;border-radius: 0.25em;box-sizing: border-box;margin-bottom: 0.5em;}#sk-container-id-4 div.sk-estimator:hover {background-color: #d4ebff;}#sk-container-id-4 div.sk-parallel-item::after {content: \"\";width: 100%;border-bottom: 1px solid gray;flex-grow: 1;}#sk-container-id-4 div.sk-label:hover label.sk-toggleable__label {background-color: #d4ebff;}#sk-container-id-4 div.sk-serial::before {content: \"\";position: absolute;border-left: 1px solid gray;box-sizing: border-box;top: 0;bottom: 0;left: 50%;z-index: 0;}#sk-container-id-4 div.sk-serial {display: flex;flex-direction: column;align-items: center;background-color: white;padding-right: 0.2em;padding-left: 0.2em;position: relative;}#sk-container-id-4 div.sk-item {position: relative;z-index: 1;}#sk-container-id-4 div.sk-parallel {display: flex;align-items: stretch;justify-content: center;background-color: white;position: relative;}#sk-container-id-4 div.sk-item::before, #sk-container-id-4 div.sk-parallel-item::before {content: \"\";position: absolute;border-left: 1px solid gray;box-sizing: border-box;top: 0;bottom: 0;left: 50%;z-index: -1;}#sk-container-id-4 div.sk-parallel-item {display: flex;flex-direction: column;z-index: 1;position: relative;background-color: white;}#sk-container-id-4 div.sk-parallel-item:first-child::after {align-self: flex-end;width: 50%;}#sk-container-id-4 div.sk-parallel-item:last-child::after {align-self: flex-start;width: 50%;}#sk-container-id-4 div.sk-parallel-item:only-child::after {width: 0;}#sk-container-id-4 div.sk-dashed-wrapped {border: 1px dashed gray;margin: 0 0.4em 0.5em 0.4em;box-sizing: border-box;padding-bottom: 0.4em;background-color: white;}#sk-container-id-4 div.sk-label label {font-family: monospace;font-weight: bold;display: inline-block;line-height: 1.2em;}#sk-container-id-4 div.sk-label-container {text-align: center;}#sk-container-id-4 div.sk-container {/* jupyter's `normalize.less` sets `[hidden] { display: none; }` but bootstrap.min.css set `[hidden] { display: none !important; }` so we also need the `!important` here to be able to override the default hidden behavior on the sphinx rendered scikit-learn.org. See: https://github.com/scikit-learn/scikit-learn/issues/21755 */display: inline-block !important;position: relative;}#sk-container-id-4 div.sk-text-repr-fallback {display: none;}</style><div id=\"sk-container-id-4\" class=\"sk-top-container\"><div class=\"sk-text-repr-fallback\"><pre>XGBClassifier(alpha=0.0001, base_score=None, booster=&#x27;dart&#x27;, callbacks=None,\n",
       "              colsample_bylevel=None, colsample_bynode=None,\n",
       "              colsample_bytree=0.5, device=None, early_stopping_rounds=None,\n",
       "              enable_categorical=False, eval_metric=None, feature_types=None,\n",
       "              gamma=None, grow_policy=None, importance_type=None,\n",
       "              interaction_constraints=None, learning_rate=None, max_bin=None,\n",
       "              max_cat_threshold=None, max_cat_to_onehot=None,\n",
       "              max_delta_step=None, max_depth=2, max_leaves=None,\n",
       "              min_child_weight=None, missing=nan, monotone_constraints=None,\n",
       "              multi_strategy=None, n_estimators=100, n_jobs=None,\n",
       "              num_parallel_tree=None, ...)</pre><b>In a Jupyter environment, please rerun this cell to show the HTML representation or trust the notebook. <br />On GitHub, the HTML representation is unable to render, please try loading this page with nbviewer.org.</b></div><div class=\"sk-container\" hidden><div class=\"sk-item\"><div class=\"sk-estimator sk-toggleable\"><input class=\"sk-toggleable__control sk-hidden--visually\" id=\"sk-estimator-id-4\" type=\"checkbox\" checked><label for=\"sk-estimator-id-4\" class=\"sk-toggleable__label sk-toggleable__label-arrow\">XGBClassifier</label><div class=\"sk-toggleable__content\"><pre>XGBClassifier(alpha=0.0001, base_score=None, booster=&#x27;dart&#x27;, callbacks=None,\n",
       "              colsample_bylevel=None, colsample_bynode=None,\n",
       "              colsample_bytree=0.5, device=None, early_stopping_rounds=None,\n",
       "              enable_categorical=False, eval_metric=None, feature_types=None,\n",
       "              gamma=None, grow_policy=None, importance_type=None,\n",
       "              interaction_constraints=None, learning_rate=None, max_bin=None,\n",
       "              max_cat_threshold=None, max_cat_to_onehot=None,\n",
       "              max_delta_step=None, max_depth=2, max_leaves=None,\n",
       "              min_child_weight=None, missing=nan, monotone_constraints=None,\n",
       "              multi_strategy=None, n_estimators=100, n_jobs=None,\n",
       "              num_parallel_tree=None, ...)</pre></div></div></div></div></div>"
      ],
      "text/plain": [
       "XGBClassifier(alpha=0.0001, base_score=None, booster='dart', callbacks=None,\n",
       "              colsample_bylevel=None, colsample_bynode=None,\n",
       "              colsample_bytree=0.5, device=None, early_stopping_rounds=None,\n",
       "              enable_categorical=False, eval_metric=None, feature_types=None,\n",
       "              gamma=None, grow_policy=None, importance_type=None,\n",
       "              interaction_constraints=None, learning_rate=None, max_bin=None,\n",
       "              max_cat_threshold=None, max_cat_to_onehot=None,\n",
       "              max_delta_step=None, max_depth=2, max_leaves=None,\n",
       "              min_child_weight=None, missing=nan, monotone_constraints=None,\n",
       "              multi_strategy=None, n_estimators=100, n_jobs=None,\n",
       "              num_parallel_tree=None, ...)"
      ]
     },
     "execution_count": 192,
     "metadata": {},
     "output_type": "execute_result"
    }
   ],
   "source": [
    "xgb_classifier"
   ]
  },
  {
   "cell_type": "code",
   "execution_count": 193,
   "id": "Qe5OqWjCOpCp",
   "metadata": {
    "id": "Qe5OqWjCOpCp"
   },
   "outputs": [
    {
     "data": {
      "text/plain": [
       "{'objective': 'binary:logistic',\n",
       " 'base_score': None,\n",
       " 'booster': 'dart',\n",
       " 'callbacks': None,\n",
       " 'colsample_bylevel': None,\n",
       " 'colsample_bynode': None,\n",
       " 'colsample_bytree': 0.5,\n",
       " 'device': None,\n",
       " 'early_stopping_rounds': None,\n",
       " 'enable_categorical': False,\n",
       " 'eval_metric': None,\n",
       " 'feature_types': None,\n",
       " 'gamma': None,\n",
       " 'grow_policy': None,\n",
       " 'importance_type': None,\n",
       " 'interaction_constraints': None,\n",
       " 'learning_rate': None,\n",
       " 'max_bin': None,\n",
       " 'max_cat_threshold': None,\n",
       " 'max_cat_to_onehot': None,\n",
       " 'max_delta_step': None,\n",
       " 'max_depth': 2,\n",
       " 'max_leaves': None,\n",
       " 'min_child_weight': None,\n",
       " 'missing': nan,\n",
       " 'monotone_constraints': None,\n",
       " 'multi_strategy': None,\n",
       " 'n_estimators': 100,\n",
       " 'n_jobs': None,\n",
       " 'num_parallel_tree': None,\n",
       " 'random_state': None,\n",
       " 'reg_alpha': None,\n",
       " 'reg_lambda': None,\n",
       " 'sampling_method': None,\n",
       " 'scale_pos_weight': None,\n",
       " 'subsample': 0.5,\n",
       " 'tree_method': 'auto',\n",
       " 'validate_parameters': None,\n",
       " 'verbosity': None,\n",
       " 'alpha': 0.0001}"
      ]
     },
     "execution_count": 193,
     "metadata": {},
     "output_type": "execute_result"
    }
   ],
   "source": [
    "xgb_classifier.get_params()"
   ]
  },
  {
   "cell_type": "code",
   "execution_count": 194,
   "id": "m0EMeurK4y6O",
   "metadata": {
    "id": "m0EMeurK4y6O"
   },
   "outputs": [
    {
     "data": {
      "text/plain": [
       "1.0"
      ]
     },
     "execution_count": 194,
     "metadata": {},
     "output_type": "execute_result"
    }
   ],
   "source": [
    "xgb_classifier.score(train_cmpts, y_train)"
   ]
  },
  {
   "cell_type": "code",
   "execution_count": 195,
   "id": "fM4Iemzu5dGC",
   "metadata": {
    "id": "fM4Iemzu5dGC"
   },
   "outputs": [
    {
     "data": {
      "text/plain": [
       "1.0"
      ]
     },
     "execution_count": 195,
     "metadata": {},
     "output_type": "execute_result"
    }
   ],
   "source": [
    "xgb_classifier.score(test_cmpts, y_test)"
   ]
  },
  {
   "cell_type": "code",
   "execution_count": 196,
   "id": "5da8d3bc-f666-42cd-bbed-621d37c21319",
   "metadata": {
    "id": "wPwy5li46eo_"
   },
   "outputs": [
    {
     "data": {
      "text/plain": [
       "['xgb_model_25.pkl']"
      ]
     },
     "execution_count": 196,
     "metadata": {},
     "output_type": "execute_result"
    }
   ],
   "source": [
    "# Save the trained model to a file\n",
    "import joblib\n",
    "joblib.dump(xgb_classifier, 'xgb_model_25.pkl')"
   ]
  },
  {
   "cell_type": "code",
   "execution_count": 197,
   "id": "E31z01HN8X03",
   "metadata": {
    "id": "E31z01HN8X03"
   },
   "outputs": [
    {
     "name": "stdout",
     "output_type": "stream",
     "text": [
      "Accuracy: 1.0\n"
     ]
    }
   ],
   "source": [
    "from sklearn.metrics import accuracy_score\n",
    "\n",
    "# Assuming you have test data 'test_x' and corresponding labels 'test_y'\n",
    "predictions = xgb_classifier.predict(test_cmpts)\n",
    "accuracy = accuracy_score(y_test, predictions)\n",
    "print(\"Accuracy:\", accuracy)"
   ]
  },
  {
   "cell_type": "code",
   "execution_count": 198,
   "id": "JUR2qo4U7VLA",
   "metadata": {
    "id": "JUR2qo4U7VLA"
   },
   "outputs": [
    {
     "name": "stdout",
     "output_type": "stream",
     "text": [
      "Confusion Matrix:\n",
      "[[4 0]\n",
      " [0 8]]\n"
     ]
    }
   ],
   "source": [
    "from sklearn.metrics import confusion_matrix\n",
    "\n",
    "conf_matrix = confusion_matrix(y_test, predictions)\n",
    "print(\"Confusion Matrix:\")\n",
    "print(conf_matrix)"
   ]
  },
  {
   "cell_type": "code",
   "execution_count": 199,
   "id": "m-UzzjvZ8Z73",
   "metadata": {
    "id": "m-UzzjvZ8Z73"
   },
   "outputs": [
    {
     "name": "stdout",
     "output_type": "stream",
     "text": [
      "Classification Report:\n",
      "              precision    recall  f1-score   support\n",
      "\n",
      "           0       1.00      1.00      1.00         4\n",
      "           1       1.00      1.00      1.00         8\n",
      "\n",
      "    accuracy                           1.00        12\n",
      "   macro avg       1.00      1.00      1.00        12\n",
      "weighted avg       1.00      1.00      1.00        12\n",
      "\n"
     ]
    }
   ],
   "source": [
    "from sklearn.metrics import classification_report\n",
    "\n",
    "print(\"Classification Report:\")\n",
    "print(classification_report(y_test, predictions))"
   ]
  },
  {
   "cell_type": "code",
   "execution_count": 200,
   "id": "7mnRmSKu9xWa",
   "metadata": {
    "id": "7mnRmSKu9xWa"
   },
   "outputs": [
    {
     "data": {
      "image/png": "[encoded data removed]",
      "text/plain": [
       "<Figure size 640x480 with 2 Axes>"
      ]
     },
     "metadata": {},
     "output_type": "display_data"
    }
   ],
   "source": [
    "import matplotlib.pyplot as plt\n",
    "from sklearn.datasets import make_classification\n",
    "from sklearn.metrics import ConfusionMatrixDisplay\n",
    "from sklearn.model_selection import train_test_split\n",
    "\n",
    "ConfusionMatrixDisplay.from_predictions(\n",
    "   y_test, predictions)\n",
    "plt.show()"
   ]
  },
  {
   "cell_type": "code",
   "execution_count": 201,
   "id": "cliR5Hab-N3v",
   "metadata": {
    "id": "cliR5Hab-N3v"
   },
   "outputs": [
    {
     "data": {
      "text/plain": [
       "(12,)"
      ]
     },
     "execution_count": 201,
     "metadata": {},
     "output_type": "execute_result"
    }
   ],
   "source": [
    "y_test.shape"
   ]
  },
  {
   "cell_type": "code",
   "execution_count": 202,
   "id": "XN5BtjNE-R-5",
   "metadata": {
    "id": "XN5BtjNE-R-5"
   },
   "outputs": [
    {
     "data": {
      "text/plain": [
       "activity_class\n",
       "1    8\n",
       "0    4\n",
       "Name: count, dtype: int64"
      ]
     },
     "execution_count": 202,
     "metadata": {},
     "output_type": "execute_result"
    }
   ],
   "source": [
    "y_test.value_counts()"
   ]
  },
  {
   "cell_type": "code",
   "execution_count": 203,
   "id": "kF5Dblfu8ce-",
   "metadata": {
    "id": "kF5Dblfu8ce-"
   },
   "outputs": [
    {
     "data": {
      "image/png": "[encoded data removed]",
      "text/plain": [
       "<Figure size 640x480 with 1 Axes>"
      ]
     },
     "metadata": {},
     "output_type": "display_data"
    }
   ],
   "source": [
    "from sklearn.metrics import roc_curve, roc_auc_score\n",
    "import matplotlib.pyplot as plt\n",
    "\n",
    "# Assuming you have binary classification with probabilities\n",
    "probs = xgb_classifier.predict_proba(test_cmpts)[:, 1]\n",
    "fpr, tpr, _ = roc_curve(y_test, probs)\n",
    "auc = roc_auc_score(y_test, probs)\n",
    "\n",
    "plt.plot(fpr, tpr, label='ROC curve (AUC = %0.2f)' % auc)\n",
    "plt.plot([0, 1], [0, 1], 'k--')\n",
    "plt.xlabel('False Positive Rate')\n",
    "plt.ylabel('True Positive Rate')\n",
    "plt.title('ROC Curve')\n",
    "plt.legend(loc=\"lower right\")\n",
    "plt.show()"
   ]
  },
  {
   "cell_type": "markdown",
   "id": "cd66c44b-eb96-480e-8510-3125090e8c96",
   "metadata": {},
   "source": [
    "# <font color = red>**KNN Classifier**</font>"
   ]
  },
  {
   "cell_type": "code",
   "execution_count": 204,
   "id": "1a01fd1a-4136-48d2-a073-833946ac1a99",
   "metadata": {},
   "outputs": [],
   "source": [
    "def KNN(train_x, train_y):\n",
    "\n",
    "    knn = KNeighborsClassifier()\n",
    "\n",
    "    # Providing different combination of parameters\n",
    "    param_grid_knn = {\n",
    "        'algorithm' : ['ball_tree', 'kd_tree', 'brute'],\n",
    "        'leaf_size' : [10,17,24,28,30,35],\n",
    "        'n_neighbors':[4,5,8,10,11],\n",
    "        'p':[1,2]\n",
    "\n",
    "    }\n",
    "\n",
    "\n",
    "    # Object for Grid Search cv\n",
    "    grid = GridSearchCV(knn, param_grid_knn, n_jobs= -1, cv=10, verbose=3)\n",
    "\n",
    "    # finding the best parameters\n",
    "    grid.fit(train_x, train_y)\n",
    "\n",
    "    # getting best parameters\n",
    "    algorithm =grid.best_params_['algorithm']\n",
    "    leaf_size = grid.best_params_['leaf_size']\n",
    "    n_neighbors = grid.best_params_['n_neighbors']\n",
    "    p  = grid.best_params_['p']\n",
    "\n",
    "    # creating a new model with the best parameters\n",
    "    knn = KNeighborsClassifier(algorithm=algorithm, leaf_size=leaf_size, n_neighbors=n_neighbors, p=p, n_jobs=-1)\n",
    "\n",
    "    # training the mew model\n",
    "    knn.fit(train_x, train_y)\n",
    "    print('Best Parameters for KNN: {}'.format(grid.best_params_))\n",
    "    return knn\n"
   ]
  },
  {
   "cell_type": "code",
   "execution_count": 205,
   "id": "b0967e37-5f97-4f79-afab-8c75bff759de",
   "metadata": {},
   "outputs": [
    {
     "name": "stdout",
     "output_type": "stream",
     "text": [
      "Fitting 10 folds for each of 180 candidates, totalling 1800 fits\n",
      "Best Parameters for KNN: {'algorithm': 'ball_tree', 'leaf_size': 10, 'n_neighbors': 11, 'p': 1}\n"
     ]
    }
   ],
   "source": [
    "knn_classifier = KNN(train_cmpts, y_train)"
   ]
  },
  {
   "cell_type": "code",
   "execution_count": 206,
   "id": "5081c241-ab51-469d-bada-87884137aee9",
   "metadata": {},
   "outputs": [
    {
     "data": {
      "text/plain": [
       "0.9148936170212766"
      ]
     },
     "execution_count": 206,
     "metadata": {},
     "output_type": "execute_result"
    }
   ],
   "source": [
    "knn_classifier.score(train_cmpts, y_train)"
   ]
  },
  {
   "cell_type": "code",
   "execution_count": 207,
   "id": "d080b41b-fb2e-42a0-bd21-34b9fd2a6fd6",
   "metadata": {},
   "outputs": [
    {
     "data": {
      "text/plain": [
       "0.9166666666666666"
      ]
     },
     "execution_count": 207,
     "metadata": {},
     "output_type": "execute_result"
    }
   ],
   "source": [
    "knn_classifier.score(test_cmpts, y_test)"
   ]
  },
  {
   "cell_type": "code",
   "execution_count": 208,
   "id": "4debf109-d18d-4d00-86fa-d3b506b91e14",
   "metadata": {},
   "outputs": [
    {
     "data": {
      "text/plain": [
       "['knn_model_25.pkl']"
      ]
     },
     "execution_count": 208,
     "metadata": {},
     "output_type": "execute_result"
    }
   ],
   "source": [
    "# Save the trained model to a file\n",
    "import joblib\n",
    "joblib.dump(knn_classifier, 'knn_model_25.pkl')"
   ]
  },
  {
   "cell_type": "code",
   "execution_count": 209,
   "id": "55ce6383-8e7c-4cac-b22d-fecdd637fa68",
   "metadata": {},
   "outputs": [
    {
     "name": "stdout",
     "output_type": "stream",
     "text": [
      "Accuracy: 0.9166666666666666\n"
     ]
    }
   ],
   "source": [
    "from sklearn.metrics import accuracy_score\n",
    "\n",
    "# Assuming you have test data 'test_x' and corresponding labels 'test_y'\n",
    "predictions = knn_classifier.predict(test_cmpts)\n",
    "accuracy = accuracy_score(y_test, predictions)\n",
    "print(\"Accuracy:\", accuracy)"
   ]
  },
  {
   "cell_type": "code",
   "execution_count": 210,
   "id": "79616dde-6758-4189-ad59-a31a07008005",
   "metadata": {},
   "outputs": [
    {
     "name": "stdout",
     "output_type": "stream",
     "text": [
      "Confusion Matrix:\n",
      "[[4 0]\n",
      " [1 7]]\n"
     ]
    }
   ],
   "source": [
    "from sklearn.metrics import confusion_matrix\n",
    "\n",
    "conf_matrix = confusion_matrix(y_test, predictions)\n",
    "print(\"Confusion Matrix:\")\n",
    "print(conf_matrix)"
   ]
  },
  {
   "cell_type": "code",
   "execution_count": 211,
   "id": "75e366cf-36c4-49d4-9cf7-86bb10f63645",
   "metadata": {},
   "outputs": [
    {
     "name": "stdout",
     "output_type": "stream",
     "text": [
      "Classification Report:\n",
      "              precision    recall  f1-score   support\n",
      "\n",
      "           0       0.80      1.00      0.89         4\n",
      "           1       1.00      0.88      0.93         8\n",
      "\n",
      "    accuracy                           0.92        12\n",
      "   macro avg       0.90      0.94      0.91        12\n",
      "weighted avg       0.93      0.92      0.92        12\n",
      "\n"
     ]
    }
   ],
   "source": [
    "from sklearn.metrics import classification_report\n",
    "\n",
    "print(\"Classification Report:\")\n",
    "print(classification_report(y_test, predictions))"
   ]
  },
  {
   "cell_type": "code",
   "execution_count": 212,
   "id": "1cd7943e-c56c-438d-8a3a-4ceb7bc5fb33",
   "metadata": {},
   "outputs": [
    {
     "data": {
      "image/png": "[encoded data removed]",
      "text/plain": [
       "<Figure size 640x480 with 2 Axes>"
      ]
     },
     "metadata": {},
     "output_type": "display_data"
    }
   ],
   "source": [
    "import matplotlib.pyplot as plt\n",
    "from sklearn.datasets import make_classification\n",
    "from sklearn.metrics import ConfusionMatrixDisplay\n",
    "from sklearn.model_selection import train_test_split\n",
    "\n",
    "ConfusionMatrixDisplay.from_predictions(\n",
    "   y_test, predictions)\n",
    "plt.show()"
   ]
  },
  {
   "cell_type": "code",
   "execution_count": 19,
   "id": "6f23def1-63d8-4bdb-b543-9ff03e21a123",
   "metadata": {},
   "outputs": [],
   "source": [
    "import joblib"
   ]
  },
  {
   "cell_type": "markdown",
   "id": "62e88e7e-522e-43f5-97fd-520ccd0b0459",
   "metadata": {},
   "source": [
    "# <font color = red>**Random Forest Classifier**</font>"
   ]
  },
  {
   "cell_type": "code",
   "execution_count": 213,
   "id": "1bf122bb-dd93-418c-a0d2-cd5862a513c9",
   "metadata": {},
   "outputs": [],
   "source": [
    "def random_forest(train_x,train_y):\n",
    "\n",
    "    rfc = RandomForestClassifier()\n",
    "\n",
    "    # Providing different combination of parameters\n",
    "    param_grid = {\"n_estimators\": [10, 20, 30,50, 70, 100, 120],\n",
    "                  \"criterion\": ['gini', 'entropy'],\n",
    "                  \"max_depth\": range(2, 4, 1),\n",
    "                  \"max_features\": ['sqrt', 'log2'],\n",
    "                  \"ccp_alpha\" : (1e-4, 10)\n",
    "\n",
    "\n",
    "\n",
    "                 }\n",
    "\n",
    "    # object for GridSearchCV\n",
    "    grid = GridSearchCV(rfc, param_grid=param_grid, n_jobs= -1, verbose=3, cv=10)\n",
    "\n",
    "    #finding the best parameters\n",
    "    grid.fit(train_x, train_y)\n",
    "\n",
    "    #getting best parameters\n",
    "    criterion = grid.best_params_['criterion']\n",
    "    max_depth = grid.best_params_['max_depth']\n",
    "    ccp_alpha = grid.best_params_['ccp_alpha']\n",
    "    max_features = grid.best_params_['max_features']\n",
    "    n_estimators = grid.best_params_['n_estimators']\n",
    "\n",
    "\n",
    "    #create new model with best parameters\n",
    "    rfc = RandomForestClassifier(n_estimators=n_estimators, criterion=criterion,\n",
    "                                      max_depth=max_depth, ccp_alpha=ccp_alpha, max_features=max_features)\n",
    "    # train new model\n",
    "    rfc.fit(train_x, train_y)\n",
    "\n",
    "    print('Best parameters for random forest are: {}'.format(grid.best_params_))\n",
    "\n",
    "    return rfc\n"
   ]
  },
  {
   "cell_type": "code",
   "execution_count": 214,
   "id": "1ea82386-dd83-407a-892a-71daadb50632",
   "metadata": {},
   "outputs": [
    {
     "name": "stdout",
     "output_type": "stream",
     "text": [
      "Fitting 10 folds for each of 112 candidates, totalling 1120 fits\n",
      "Best parameters for random forest are: {'ccp_alpha': 0.0001, 'criterion': 'gini', 'max_depth': 3, 'max_features': 'sqrt', 'n_estimators': 50}\n"
     ]
    }
   ],
   "source": [
    "rfc_classifier = random_forest(train_cmpts, y_train)"
   ]
  },
  {
   "cell_type": "code",
   "execution_count": 215,
   "id": "106fad08-0bef-47c8-8814-ca578b13570f",
   "metadata": {},
   "outputs": [
    {
     "data": {
      "text/plain": [
       "['rf_model_25.pkl']"
      ]
     },
     "execution_count": 215,
     "metadata": {},
     "output_type": "execute_result"
    }
   ],
   "source": [
    "# Save the trained model to a file\n",
    "import joblib\n",
    "joblib.dump(rfc_classifier, 'rf_model_25.pkl')"
   ]
  },
  {
   "cell_type": "code",
   "execution_count": 216,
   "id": "01672d81-a19d-49a5-8c20-7ca223c2aca3",
   "metadata": {},
   "outputs": [
    {
     "name": "stdout",
     "output_type": "stream",
     "text": [
      "Accuracy: 0.8333333333333334\n"
     ]
    }
   ],
   "source": [
    "from sklearn.metrics import accuracy_score\n",
    "\n",
    "# Assuming you have test data 'test_x' and corresponding labels 'test_y'\n",
    "predictions = rfc_classifier.predict(test_cmpts)\n",
    "accuracy = accuracy_score(y_test, predictions)\n",
    "print(\"Accuracy:\", accuracy)"
   ]
  },
  {
   "cell_type": "code",
   "execution_count": 217,
   "id": "952f1fac-8807-4d91-8e1d-2a0e825cea05",
   "metadata": {},
   "outputs": [
    {
     "name": "stdout",
     "output_type": "stream",
     "text": [
      "Confusion Matrix:\n",
      "[[3 1]\n",
      " [1 7]]\n"
     ]
    }
   ],
   "source": [
    "from sklearn.metrics import confusion_matrix\n",
    "\n",
    "conf_matrix = confusion_matrix(y_test, predictions)\n",
    "print(\"Confusion Matrix:\")\n",
    "print(conf_matrix)"
   ]
  },
  {
   "cell_type": "code",
   "execution_count": 218,
   "id": "38604901-c504-4800-9711-63f4c315e00d",
   "metadata": {},
   "outputs": [
    {
     "name": "stdout",
     "output_type": "stream",
     "text": [
      "Classification Report:\n",
      "              precision    recall  f1-score   support\n",
      "\n",
      "           0       0.75      0.75      0.75         4\n",
      "           1       0.88      0.88      0.88         8\n",
      "\n",
      "    accuracy                           0.83        12\n",
      "   macro avg       0.81      0.81      0.81        12\n",
      "weighted avg       0.83      0.83      0.83        12\n",
      "\n"
     ]
    }
   ],
   "source": [
    "from sklearn.metrics import classification_report\n",
    "\n",
    "print(\"Classification Report:\")\n",
    "print(classification_report(y_test, predictions))"
   ]
  },
  {
   "cell_type": "code",
   "execution_count": 219,
   "id": "8b6a2ad2-dc8d-401f-a13c-16205f7273f7",
   "metadata": {},
   "outputs": [
    {
     "data": {
      "image/png": "[encoded data removed]",
      "text/plain": [
       "<Figure size 640x480 with 2 Axes>"
      ]
     },
     "metadata": {},
     "output_type": "display_data"
    }
   ],
   "source": [
    "import matplotlib.pyplot as plt\n",
    "from sklearn.datasets import make_classification\n",
    "from sklearn.metrics import ConfusionMatrixDisplay\n",
    "from sklearn.model_selection import train_test_split\n",
    "\n",
    "ConfusionMatrixDisplay.from_predictions(\n",
    "   y_test, predictions)\n",
    "plt.show()"
   ]
  },
  {
   "cell_type": "code",
   "execution_count": null,
   "id": "d81953fb-3ba6-479a-aba1-0338338772e9",
   "metadata": {},
   "outputs": [],
   "source": []
  },
  {
   "cell_type": "code",
   "execution_count": null,
   "id": "c09c6867-2903-45bf-8bec-a6afeb181764",
   "metadata": {},
   "outputs": [],
   "source": []
  },
  {
   "cell_type": "code",
   "execution_count": null,
   "id": "f1ba7bf0-c378-4d42-8971-a3f27aa6bcf9",
   "metadata": {},
   "outputs": [],
   "source": []
  },
  {
   "cell_type": "markdown",
   "id": "73c699eb-9b0c-47a8-870a-5142f18717ae",
   "metadata": {},
   "source": [
    "# **SUPPORT VECTOR CLASSIFIER**"
   ]
  },
  {
   "cell_type": "code",
   "execution_count": 220,
   "id": "cd16e353-5154-45c0-a61f-4b3aec813ebe",
   "metadata": {},
   "outputs": [],
   "source": [
    "def support_vector(train_x, train_y):\n",
    "\n",
    "    svc = SVC()\n",
    "\n",
    "    # Providing different combination of parameters\n",
    "    param_grid_svc = {\n",
    "        'C': [0.1, 1, 10, 100], \n",
    "        'gamma': [0.001, 0.01, 0.1, 1], \n",
    "        'kernel': ['linear', 'rbf']\n",
    "    }\n",
    "\n",
    "\n",
    "    # Object for Grid Search cv\n",
    "    grid = GridSearchCV(svc, param_grid_svc, n_jobs= -1, cv=10, verbose=3)\n",
    "\n",
    "    # finding the best parameters\n",
    "    grid.fit(train_x, train_y)\n",
    "\n",
    "    # getting best parameters\n",
    "    C =grid.best_params_['C']\n",
    "    gamma = grid.best_params_['gamma']\n",
    "    kernel = grid.best_params_['kernel']\n",
    "\n",
    "    # creating a new model with the best parameters\n",
    "    svc = SVC(C=C, gamma = gamma, kernel = kernel)\n",
    "\n",
    "    # training the mew model\n",
    "    svc.fit(train_x, train_y)\n",
    "    print('Best Parameters for SVC: {}'.format(grid.best_params_))\n",
    "    return svc\n"
   ]
  },
  {
   "cell_type": "code",
   "execution_count": 221,
   "id": "cfb32527-babf-4605-b2ab-e3e1c5a4c22b",
   "metadata": {},
   "outputs": [
    {
     "name": "stdout",
     "output_type": "stream",
     "text": [
      "Fitting 10 folds for each of 32 candidates, totalling 320 fits\n",
      "Best Parameters for SVC: {'C': 1, 'gamma': 0.001, 'kernel': 'linear'}\n"
     ]
    }
   ],
   "source": [
    "svc_classifier = support_vector(train_cmpts, y_train)"
   ]
  },
  {
   "cell_type": "code",
   "execution_count": 222,
   "id": "761e53e9-88ff-40ae-87c5-82a5ba65f1c3",
   "metadata": {},
   "outputs": [
    {
     "data": {
      "text/plain": [
       "0.9787234042553191"
      ]
     },
     "execution_count": 222,
     "metadata": {},
     "output_type": "execute_result"
    }
   ],
   "source": [
    "svc_classifier.score(train_cmpts, y_train)"
   ]
  },
  {
   "cell_type": "code",
   "execution_count": 223,
   "id": "958f1920-804f-4db9-8dd1-f25410758927",
   "metadata": {},
   "outputs": [
    {
     "data": {
      "text/plain": [
       "0.9166666666666666"
      ]
     },
     "execution_count": 223,
     "metadata": {},
     "output_type": "execute_result"
    }
   ],
   "source": [
    "svc_classifier.score(test_cmpts, y_test)"
   ]
  },
  {
   "cell_type": "code",
   "execution_count": 224,
   "id": "28a59553-9d4c-4452-a345-60198f124a44",
   "metadata": {},
   "outputs": [
    {
     "name": "stdout",
     "output_type": "stream",
     "text": [
      "Accuracy: 0.9166666666666666\n"
     ]
    }
   ],
   "source": [
    "from sklearn.metrics import accuracy_score\n",
    "\n",
    "# Assuming you have test data 'test_x' and corresponding labels 'test_y'\n",
    "predictions = svc_classifier.predict(test_cmpts)\n",
    "accuracy = accuracy_score(y_test, predictions)\n",
    "print(\"Accuracy:\", accuracy)"
   ]
  },
  {
   "cell_type": "code",
   "execution_count": 225,
   "id": "827837e1-fd03-4340-82a5-43ed46853cd9",
   "metadata": {},
   "outputs": [
    {
     "name": "stdout",
     "output_type": "stream",
     "text": [
      "Confusion Matrix:\n",
      "[[4 0]\n",
      " [1 7]]\n"
     ]
    }
   ],
   "source": [
    "from sklearn.metrics import confusion_matrix\n",
    "\n",
    "conf_matrix = confusion_matrix(y_test, predictions)\n",
    "print(\"Confusion Matrix:\")\n",
    "print(conf_matrix)"
   ]
  },
  {
   "cell_type": "code",
   "execution_count": 226,
   "id": "9cb65adb-cfbd-48bc-86ef-4808fe4297d9",
   "metadata": {},
   "outputs": [
    {
     "name": "stdout",
     "output_type": "stream",
     "text": [
      "Classification Report:\n",
      "              precision    recall  f1-score   support\n",
      "\n",
      "           0       0.80      1.00      0.89         4\n",
      "           1       1.00      0.88      0.93         8\n",
      "\n",
      "    accuracy                           0.92        12\n",
      "   macro avg       0.90      0.94      0.91        12\n",
      "weighted avg       0.93      0.92      0.92        12\n",
      "\n"
     ]
    }
   ],
   "source": [
    "from sklearn.metrics import classification_report\n",
    "\n",
    "print(\"Classification Report:\")\n",
    "print(classification_report(y_test, predictions))"
   ]
  },
  {
   "cell_type": "code",
   "execution_count": 227,
   "id": "470be60a-b2fd-4d85-8228-1a06c7de739b",
   "metadata": {},
   "outputs": [
    {
     "data": {
      "image/png": "[encoded data removed]",
      "text/plain": [
       "<Figure size 640x480 with 2 Axes>"
      ]
     },
     "metadata": {},
     "output_type": "display_data"
    }
   ],
   "source": [
    "import matplotlib.pyplot as plt\n",
    "from sklearn.datasets import make_classification\n",
    "from sklearn.metrics import ConfusionMatrixDisplay\n",
    "from sklearn.model_selection import train_test_split\n",
    "\n",
    "ConfusionMatrixDisplay.from_predictions(\n",
    "   y_test, predictions)\n",
    "plt.show()"
   ]
  },
  {
   "cell_type": "code",
   "execution_count": 228,
   "id": "0360fb6c-fb83-4cdc-bc26-049b431f9742",
   "metadata": {},
   "outputs": [
    {
     "data": {
      "text/plain": [
       "activity_class\n",
       "1    8\n",
       "0    4\n",
       "Name: count, dtype: int64"
      ]
     },
     "execution_count": 228,
     "metadata": {},
     "output_type": "execute_result"
    }
   ],
   "source": [
    "y_test.value_counts()"
   ]
  },
  {
   "cell_type": "code",
   "execution_count": 229,
   "id": "70b28520-2e1c-4b89-ad6b-99b6729a8eee",
   "metadata": {},
   "outputs": [
    {
     "data": {
      "text/plain": [
       "['svm_model_25.pkl']"
      ]
     },
     "execution_count": 229,
     "metadata": {},
     "output_type": "execute_result"
    }
   ],
   "source": [
    "# Save the trained model to a file\n",
    "import joblib\n",
    "joblib.dump(svc_classifier, 'svm_model_25.pkl')"
   ]
  },
  {
   "cell_type": "code",
   "execution_count": null,
   "id": "4ddd6a9b-dbad-4ed5-a613-3b5004414acd",
   "metadata": {},
   "outputs": [],
   "source": []
  },
  {
   "cell_type": "code",
   "execution_count": null,
   "id": "e10ba5f3-c996-4139-90ab-68ab0fd1e5e3",
   "metadata": {},
   "outputs": [],
   "source": []
  }
 ],
 "metadata": {
  "accelerator": "GPU",
  "colab": {
   "gpuType": "T4",
   "provenance": []
  },
  "kernelspec": {
   "display_name": "Python 3 (ipykernel)",
   "language": "python",
   "name": "python3"
  },
  "language_info": {
   "codemirror_mode": {
    "name": "ipython",
    "version": 3
   },
   "file_extension": ".py",
   "mimetype": "text/x-python",
   "name": "python",
   "nbconvert_exporter": "python",
   "pygments_lexer": "ipython3",
   "version": "3.11.8"
  }
 },
 "nbformat": 4,
 "nbformat_minor": 5
}
